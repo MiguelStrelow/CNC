{
  "nbformat": 4,
  "nbformat_minor": 0,
  "metadata": {
    "colab": {
      "provenance": [],
      "authorship_tag": "ABX9TyNMuuz67SxDEHBXtdGqr1vV"
    },
    "kernelspec": {
      "name": "python3",
      "display_name": "Python 3"
    },
    "language_info": {
      "name": "python"
    }
  },
  "cells": [
    {
      "cell_type": "markdown",
      "source": [
        "#Bibliotecas"
      ],
      "metadata": {
        "id": "8GUJbmtMOnHY"
      }
    },
    {
      "cell_type": "code",
      "execution_count": null,
      "metadata": {
        "id": "-pL3dmSyOfHf"
      },
      "outputs": [],
      "source": [
        "import sympy as sp\n",
        "import numpy as np\n",
        "import math as mt\n",
        "import tabulate as tab\n",
        "import matplotlib.pyplot as plt"
      ]
    },
    {
      "cell_type": "markdown",
      "source": [
        "#Função para plotar gráficos\n"
      ],
      "metadata": {
        "id": "lU-FXsVQX0N0"
      }
    },
    {
      "cell_type": "code",
      "source": [
        "def plotar(f1, f2, titulo, limite1, limite2):\n",
        "  aux = []\n",
        "  inicio = limite1\n",
        "  fim = limite2\n",
        "  nro_de_pontos = 1000\n",
        "  plt.axhline(y=0, color = \"black\", linestyle = '--')\n",
        "  curva = np.linspace(inicio, fim, nro_de_pontos)\n",
        "\n",
        "  valores = [f1(valor) for valor in curva]\n",
        "  plt.plot(curva, valores, color = \"black\", linestyle='-')\n",
        "\n",
        "  valores2 = [f2(valor2) for valor2 in curva]\n",
        "  plt.plot(curva, valores2, color = \"red\",  linestyle='-')\n",
        "\n",
        "\n",
        "  plt.title(titulo)\n",
        "  plt.xlabel('x')\n",
        "  plt.ylabel('f(x)')\n",
        "  plt.grid()\n",
        "  plt.show()\n"
      ],
      "metadata": {
        "id": "9DEGo6eUXzXc"
      },
      "execution_count": null,
      "outputs": []
    },
    {
      "cell_type": "markdown",
      "source": [
        "#Métodos"
      ],
      "metadata": {
        "id": "l6NSeh5FQXC7"
      }
    },
    {
      "cell_type": "markdown",
      "source": [
        "##Eliminação de Gauss"
      ],
      "metadata": {
        "id": "TFHlU0CtQcnj"
      }
    },
    {
      "cell_type": "code",
      "source": [
        "def gauss(A, b, n):\n",
        "  det = 1.0\n",
        "  info = 0.0\n",
        "  for j in range(0, n):\n",
        "    p = j\n",
        "    #Escolha do pivô\n",
        "    Amax = abs(A[j][j])\n",
        "    for k in range (j+1, n):\n",
        "      if(abs(A[k][j]) > Amax):\n",
        "        Amax = abs(A[k][j])\n",
        "        p = k\n",
        "\n",
        "    if p != j:#Troca de linha\n",
        "      for k in range (0, n):\n",
        "        temp = A[j][k]\n",
        "        A[j][k] = A[p][k]\n",
        "        A[p][k] = temp\n",
        "      temp = b[j]\n",
        "      b[j] = b[p]\n",
        "      b[p] = temp\n",
        "      det = -det\n",
        "\n",
        "    det = det*A[j][j]\n",
        "\n",
        "    #Eliminação de Gauss\n",
        "    if abs(A[j][j] != 0):\n",
        "      r = 1/A[j][j]\n",
        "\n",
        "      for i in range(j+1, n):\n",
        "        mult = A[i][j]*r\n",
        "        A[i][j] = 0\n",
        "        for k in range(j+1, n):\n",
        "          A[i][k] = A[i][k] - mult*A[j][k]\n",
        "\n",
        "        b[i] = b[i] - mult*b[j]\n",
        "\n",
        "    else:\n",
        "      if info == 0.0:\n",
        "        info = j\n",
        "\n",
        "  det = det*A[n-1][n-1]\n",
        "  if (info == 0) & (abs(A[n-1][n-1]) == 0):\n",
        "    info = n\n",
        "\n",
        "  return np.linalg.solve(A, b)\n"
      ],
      "metadata": {
        "id": "mr1nEGsAQb6M"
      },
      "execution_count": null,
      "outputs": []
    },
    {
      "cell_type": "code",
      "source": [
        "gauss(([1.5, 5.4, 3.3], [4.2, 2.3, 4.5], [2.7, 5.7, 7.8]), [10, 11.7, 8.9], 3)"
      ],
      "metadata": {
        "colab": {
          "base_uri": "https://localhost:8080/"
        },
        "id": "v4Uk_vUMWzV2",
        "outputId": "110959dd-bf58-45fb-943c-111e437403cc"
      },
      "execution_count": null,
      "outputs": [
        {
          "output_type": "execute_result",
          "data": {
            "text/plain": [
              "array([ 3.12522145,  1.71216783, -1.19198135])"
            ]
          },
          "metadata": {},
          "execution_count": 379
        }
      ]
    },
    {
      "cell_type": "markdown",
      "source": [
        "Gauss com arredondamento em 3 casas"
      ],
      "metadata": {
        "id": "on6AJ2mPmHRR"
      }
    },
    {
      "cell_type": "code",
      "source": [
        "def gaussA(A, b, n):\n",
        "  det = 1.0\n",
        "  info = 0.0\n",
        "  for j in range(0, n):\n",
        "    p = j\n",
        "    #Escolha do pivô\n",
        "    Amax = abs(A[j][j])\n",
        "    for k in range (j+1, n):\n",
        "      if(abs(A[k][j]) > Amax):\n",
        "        Amax = abs(A[k][j])\n",
        "        p = k\n",
        "\n",
        "    if p != j:#Troca de linha\n",
        "      for k in range (0, n):\n",
        "        temp = A[j][k]\n",
        "        A[j][k] = A[p][k]\n",
        "        A[p][k] = temp\n",
        "      temp = b[j]\n",
        "      b[j] = b[p]\n",
        "      b[p] = temp\n",
        "      det = -det\n",
        "\n",
        "    det = det*A[j][j]\n",
        "\n",
        "    #Eliminação de Gauss\n",
        "    if abs(A[j][j] != 0):\n",
        "      r = 1/A[j][j]\n",
        "      r = round(r, 3)\n",
        "\n",
        "      for i in range(j+1, n):\n",
        "        mult = round(A[i][j]*r, 3)\n",
        "        A[i][j] = 0\n",
        "        for k in range(j+1, n):\n",
        "          A[i][k] = round(A[i][k] - mult*A[j][k],3)\n",
        "\n",
        "        b[i] = round(b[i] - mult*b[j],3)\n",
        "\n",
        "    else:\n",
        "      if info == 0.0:\n",
        "        info = j\n",
        "\n",
        "  det = det*A[n-1][n-1]\n",
        "  if (info == 0) & (abs(A[n-1][n-1]) == 0):\n",
        "    info = n\n",
        "\n",
        "  return np.linalg.solve(A, b)"
      ],
      "metadata": {
        "id": "fzBYdVgNmGJ5"
      },
      "execution_count": null,
      "outputs": []
    },
    {
      "cell_type": "markdown",
      "source": [
        "##Fatoração LU"
      ],
      "metadata": {
        "id": "qwy7bUtOnPb5"
      }
    },
    {
      "cell_type": "code",
      "source": [
        "def LU(linhas, colunas, A, b):\n",
        "  '''pivo = [0 for _ in range(linhas)]\n",
        "  for i in range(0, linhas):\n",
        "    pivo[i] = i\n",
        "\n",
        "  PdU = 1\n",
        "  info = 0\n",
        "  for j in range(0, min(linhas, colunas)):\n",
        "    #Escolha do pivô\n",
        "    p = j\n",
        "    Amax = abs(A[j][j])\n",
        "    for k in range(j+1, linhas):\n",
        "\n",
        "\n",
        "      if (abs(A[k][j])>Amax):\n",
        "        Amax = abs(A[k][j])\n",
        "        p = k\n",
        "\n",
        "\n",
        "    if p != j:#Troca linhas\n",
        "      for k in range(0, colunas):\n",
        "        t = A[j][k]\n",
        "        A[j][k] = A[p][k]\n",
        "        A[p][k] = t\n",
        "\n",
        "\n",
        "\n",
        "      i = pivo[j]\n",
        "      pivo[j] = pivo[p]\n",
        "      pivo[p] = i\n",
        "      PdU = -PdU\n",
        "    PdU = PdU * A[j][j]\n",
        "    #Gauss\n",
        "\n",
        "  if A[j][j] != 0:\n",
        "    r = A[j][j]\n",
        "\n",
        "    for i in range(j+1, linhas):\n",
        "      Mult = A[i][j]/r\n",
        "      A[i][j] = Mult\n",
        "\n",
        "      for k in range(j+1, colunas):\n",
        "        A[i][k] = A[i][k] - Mult*A[j][k]\n",
        "\n",
        "  else:\n",
        "    if info == 0:\n",
        "      info = j\n",
        "\n",
        "\n",
        "  pivoout = pivo\n",
        "\n",
        "  for i in range(0, linhas):\n",
        "    if pivo[i] != i:\n",
        "      temp = b[i]\n",
        "      b[i] = b[pivo[i]]\n",
        "      b[pivo[i]] = temp\n",
        "\n",
        "      temp = pivo[i]\n",
        "      pivo[i] = pivo[temp]\n",
        "      pivo[temp] = temp\n",
        "\n",
        "  print(A)\n",
        "  soluc = [solucLU(linhas, A, b)]\n",
        "\n",
        "  #print(soluc)\n",
        "  #print(pivo)\n",
        "\n",
        "  return soluc\n",
        "'''\n",
        "  pivot = [0 for _ in range(linhas)]\n",
        "  for i in range(0, linhas):\n",
        "    pivot[i] = i\n",
        "\n",
        "  PdU = 1\n",
        "  info = 0\n",
        "\n",
        "  for j in range(0, min(linhas, colunas)):\n",
        "    p = j\n",
        "    Amax = abs(A[j][j])\n",
        "\n",
        "    for k in range(j+1, linhas):\n",
        "      if abs(A[k][j]) > Amax:\n",
        "        Amax = abs(A[k][j])\n",
        "        p = k\n",
        "\n",
        "    if p != j:#troca linhas\n",
        "      for k in range(0, colunas):\n",
        "        t = A[j][k]\n",
        "        A[j][k] = A[p][k]\n",
        "        A[p][k] = t\n",
        "\n",
        "        t = b[j]\n",
        "        b[j] = b[p]\n",
        "        b[p] = t\n",
        "      i = pivot[j]\n",
        "      pivot[j] = pivot[p]\n",
        "      pivot[p] = i\n",
        "      PdU = -PdU\n",
        "\n",
        "    PdU = PdU * A[j][j]\n",
        "\n",
        "    #Gauss\n",
        "\n",
        "    if abs(A[j][j]) != 0:\n",
        "      r = A[j][j]\n",
        "      for i in range(j+1, linhas):\n",
        "        Mult = A[i][j] / r\n",
        "        A[i][j] = Mult\n",
        "        for k in range(j+1, colunas):\n",
        "          A[i][k] = A[i][k] - Mult * A[j][k]\n",
        "\n",
        "    else:\n",
        "\n",
        "      if info == 0:\n",
        "        info = j\n",
        "\n",
        "  pivoout = pivot\n",
        "\n",
        "  '''for i in range(0, linhas):\n",
        "    if pivot[i] != i:\n",
        "      print(pivot)\n",
        "      print(b)\n",
        "      temp = b[i]\n",
        "      b[i] = b[pivot[i]]\n",
        "      b[pivot[i]] = temp\n",
        "\n",
        "      temp = pivot[i]\n",
        "      pivot[i] = pivot[temp]\n",
        "      pivot[temp] = temp'''\n",
        "  solucLU(linhas, A, b)\n",
        "  return\n"
      ],
      "metadata": {
        "id": "F2Cm43sPncxq"
      },
      "execution_count": null,
      "outputs": []
    },
    {
      "cell_type": "code",
      "source": [
        "#LU(3, 3, ([1,1,1],[1,1,1],[1,1,1]), [1,1,1])"
      ],
      "metadata": {
        "id": "akz2HZi-n_N6"
      },
      "execution_count": null,
      "outputs": []
    },
    {
      "cell_type": "code",
      "source": [
        "def solucLU(ordem, A, b):\n",
        "  #L*U*x = b\n",
        "  U = [[0 for _ in range(ordem)] for _ in range(ordem)]\n",
        "  L = [[0 for _ in range(ordem)] for _ in range(ordem)]\n",
        "\n",
        "\n",
        "\n",
        "  for j in range(0, ordem):\n",
        "    for k in range(0, ordem):\n",
        "      if k >= j:\n",
        "        U[j][k] = A[j][k]\n",
        "        if k == j:\n",
        "          L[j][k] = 1\n",
        "      else:\n",
        "        L[j][k] = A[j][k]\n",
        "\n",
        "\n",
        "\n",
        "\n",
        "  y = np.linalg.solve(L, b)\n",
        "\n",
        "  sol = np.linalg.solve(U, y)\n",
        "  s = sol.tolist()\n",
        "\n",
        "  print(\"Vetor Solução:\\n\", s)\n",
        "  print(\"\\nMatriz L:\\n\", tab.tabulate(L))\n",
        "  print(\"Matriz U:\\n\", tab.tabulate(U))\n",
        "\n",
        "  return\n",
        "  #return print(\"Vetor Solução:\\n\", s), print(\"Matriz L:\\n\", tab.tabulate(L)), print(\"Matriz U:\\n\", tab.tabulate(U))\n",
        "\n"
      ],
      "metadata": {
        "id": "bx3H44rRVkn3"
      },
      "execution_count": null,
      "outputs": []
    },
    {
      "cell_type": "code",
      "source": [
        "def verificaLU(ordem, A):\n",
        "\n",
        "  if ordem == 1 and A[0] == 0:\n",
        "    print(\"A matriz não pode ser fatorada em L e U\")\n",
        "    return A\n",
        "  else:\n",
        "    for i in range(1, ordem+1):\n",
        "      A_ = [[0 for _ in range(i)] for _ in range(i)]\n",
        "      for j in range(0, i):\n",
        "        for k in range(0, i):\n",
        "          A_[j][k] = A[j][k]\n",
        "\n",
        "      detA_ = np.linalg.det(A_)\n",
        "\n",
        "      if detA_ == 0:\n",
        "        print(\"A matriz não pode ser fatorada em L e U\")\n",
        "        return\n",
        "\n",
        "  print(\"A matriz pode ser fatorada em L e U\")\n",
        "  return\n"
      ],
      "metadata": {
        "id": "yrKOKE7fAIzb"
      },
      "execution_count": null,
      "outputs": []
    },
    {
      "cell_type": "code",
      "source": [
        "LU(3, 3, [[3, 2, 4], [1, 1, 2], [4, 3, -2]], [1, 2, 3])\n",
        "\n",
        "#verificaLU(3, [[1, 2, 1], [1, 1, 2], [4, 3, -2]])"
      ],
      "metadata": {
        "colab": {
          "base_uri": "https://localhost:8080/"
        },
        "id": "2nVKEWaMx9BK",
        "outputId": "4243baba-d14f-42c0-ea0c-4c7b5e7a3db4"
      },
      "execution_count": null,
      "outputs": [
        {
          "output_type": "stream",
          "name": "stdout",
          "text": [
            "Vetor Solução:\n",
            " [-3.0, 5.0, 0.0]\n",
            "\n",
            "Matriz L:\n",
            " ----  --  -\n",
            "1      0  0\n",
            "0.25   1  0\n",
            "0.75  -1  1\n",
            "----  --  -\n",
            "Matriz U:\n",
            " -  ----  ----\n",
            "4  3     -2\n",
            "0  0.25   2.5\n",
            "0  0      8\n",
            "-  ----  ----\n"
          ]
        }
      ]
    },
    {
      "cell_type": "markdown",
      "source": [
        "##Algoritmo Cholesky"
      ],
      "metadata": {
        "id": "HO2F3R4mSGpt"
      }
    },
    {
      "cell_type": "code",
      "source": [
        "def cholesky(ordem, A, b):\n",
        "  det = 1\n",
        "  info = 0\n",
        "  G = [[0 for _ in range(ordem)] for _ in range(ordem)]\n",
        "  for j in range(0, ordem):\n",
        "    soma = 0\n",
        "    for k in range(0, j):\n",
        "      soma = soma + (A[j][k] * A[j][k])\n",
        "\n",
        "\n",
        "    t = A[j][j] - soma\n",
        "\n",
        "    if t>0:\n",
        "      A[j][j] = mt.sqrt(t)\n",
        "      r = A[j][j]\n",
        "      G[j][j] = A[j][j]\n",
        "      det *= t\n",
        "    else:\n",
        "      info = j\n",
        "      print(\"Matriz não é definida positiva\")\n",
        "      return 0\n",
        "\n",
        "    for i in range(j+1, ordem):\n",
        "      soma = 0\n",
        "\n",
        "      for k in range(0, j-1):\n",
        "        soma += A[i][k]*A[j][k]\n",
        "\n",
        "      A[i][j] = (A[i][j] - soma) / r\n",
        "      G[i][j] = A[i][j]\n",
        "\n",
        "  #Traspõe G\n",
        "  GT= [[0 for _ in range(ordem)] for _ in range(ordem)]\n",
        "\n",
        "  for j in range(0, ordem):\n",
        "    for k in range(0, ordem):\n",
        "      GT[j][k] = G[k][j]\n",
        "\n",
        "  #Calcula G*y = b\n",
        "  y = np.linalg.solve(G, b)\n",
        "\n",
        "  #Calcula GT*X = y\n",
        "\n",
        "  return np.linalg.solve(GT, y)\n",
        "\n"
      ],
      "metadata": {
        "id": "zayKMKl3SLD0"
      },
      "execution_count": null,
      "outputs": []
    },
    {
      "cell_type": "code",
      "source": [
        "def verificaCholesky(ordem, A):\n",
        "\n",
        "\n",
        "  if ordem == 1 and A[0] == 0:\n",
        "    print(\"A matriz não pode ser fatorada por Cholensky\")\n",
        "    return A\n",
        "  else:\n",
        "    for i in range(1, ordem+1):\n",
        "      A_ = [[0 for _ in range(i)] for _ in range(i)]\n",
        "      for j in range(0, i):\n",
        "        for k in range(0, i):\n",
        "          if A[j][k] == A[k][j]:\n",
        "            A_[j][k] = A[j][k]\n",
        "          else:\n",
        "            print(\"A matriz não pode ser fatorada por Cholesky\")\n",
        "            return\n",
        "\n",
        "      detA_ = np.linalg.det(A_)\n",
        "\n",
        "      if detA_ <= 0:\n",
        "        print(\"A matriz não pode ser fatorada por Cholesky\")\n",
        "        return\n",
        "\n",
        "  print(\"A matriz pode ser fatorada por Cholesky\")\n",
        "  return"
      ],
      "metadata": {
        "id": "2yhJ_m7bphzj"
      },
      "execution_count": null,
      "outputs": []
    },
    {
      "cell_type": "code",
      "source": [
        "cholesky(3, ([1, 1, 0], [1, 2, -1], [0, -1, 3]), (2, 1, 5))\n",
        "verificaCholesky(3, ([1, 1, 0], [1, 2, -1], [0, -1, 3]))"
      ],
      "metadata": {
        "colab": {
          "base_uri": "https://localhost:8080/"
        },
        "id": "Locqu7g6d9pu",
        "outputId": "14703243-b6e7-4864-ead7-cc435e788910"
      },
      "execution_count": null,
      "outputs": [
        {
          "output_type": "stream",
          "name": "stdout",
          "text": [
            "A matriz pode ser fatorada por Cholesky\n"
          ]
        }
      ]
    },
    {
      "cell_type": "markdown",
      "source": [
        "##Algoritmo de Gauss-Jacobi"
      ],
      "metadata": {
        "id": "rSOXdqrQVYAg"
      }
    },
    {
      "cell_type": "code",
      "source": [
        "def gauss_Jacobi(Ordem, A, b, Tol, maxIt):\n",
        "  x = Ordem*[None]\n",
        "  v = Ordem*[None]\n",
        "\n",
        "  for i in range (0, Ordem):\n",
        "    x[i] = b[i]/A[i][i]\n",
        "  It = 0\n",
        "    #Iterações de Jacobi\n",
        "  NormaRel = Tol+1\n",
        "  while(NormaRel > Tol and It < maxIt):\n",
        "    It += 1\n",
        "    for i in range(0, Ordem):\n",
        "      Soma = 0\n",
        "      for j in range(0, Ordem):\n",
        "        if i != j:\n",
        "          Soma += A[i][j] * x[j]\n",
        "\n",
        "      v[i] = (b[i] - Soma)/A[i][i]\n",
        "\n",
        "    NormaNum = 0\n",
        "    NormaDen = 0\n",
        "    for i in range(0, Ordem):\n",
        "      t = abs(v[i]-x[i])\n",
        "      if t > NormaNum:\n",
        "        NormaNum = t\n",
        "      if abs(v[i]) > NormaDen:\n",
        "        NormaDen = abs(v[i])\n",
        "\n",
        "      x[i] = v[i]\n",
        "\n",
        "    NormaRel = NormaNum/NormaDen\n",
        "\n",
        "    print(It, x, NormaRel)\n",
        "\n",
        "  if NormaRel <= Tol:\n",
        "    info = 0\n",
        "  else:\n",
        "    info = 1\n",
        "\n",
        "  return x\n"
      ],
      "metadata": {
        "id": "Zu2m-MZCVbN7"
      },
      "execution_count": null,
      "outputs": []
    },
    {
      "cell_type": "code",
      "source": [
        "gauss_Jacobi(3, ([10, 2, 1], [1, 5, 1], [2, 3, 10]), [7, -8, 6], 0.05, 1000)"
      ],
      "metadata": {
        "colab": {
          "base_uri": "https://localhost:8080/"
        },
        "id": "T1w7R9brbZq5",
        "outputId": "39e20d9b-ff15-40a0-b0c6-f8f0c3725243"
      },
      "execution_count": null,
      "outputs": [
        {
          "output_type": "stream",
          "name": "stdout",
          "text": [
            "1 [0.96, -1.86, 0.9400000000000001] 0.18279569892473121\n",
            "2 [0.9780000000000001, -1.98, 0.966] 0.060606060606060545\n",
            "3 [0.9994, -1.9888, 0.9983999999999998] 0.016291230893000743\n"
          ]
        },
        {
          "output_type": "execute_result",
          "data": {
            "text/plain": [
              "[0.9994, -1.9888, 0.9983999999999998]"
            ]
          },
          "metadata": {},
          "execution_count": 390
        }
      ]
    },
    {
      "cell_type": "markdown",
      "source": [
        "##Gauss-Seidel"
      ],
      "metadata": {
        "id": "Hh3r-lKdh3fS"
      }
    },
    {
      "cell_type": "code",
      "source": [
        "def gauss_Seidel(Ordem, A, b, Tol, maxIt):\n",
        "  x = Ordem*[None]\n",
        "  v = Ordem*[None]\n",
        "#Preenchendo o vetor x\n",
        "  for i in range(0, Ordem):\n",
        "    x[i] = b[i]/A[i][i]\n",
        "\n",
        "  It = 0\n",
        "\n",
        "  #It de Gauss-Seidel\n",
        "  NormaRel = Tol+1\n",
        "  while(NormaRel>Tol and It< maxIt):\n",
        "    It += 1\n",
        "    NormaNum = 0\n",
        "    NormaDen = 0\n",
        "\n",
        "    for i in range(0, Ordem):\n",
        "      Soma = 0\n",
        "      for j in range(0, Ordem):\n",
        "        if i != j:\n",
        "          Soma += A[i][j] * x[j]\n",
        "\n",
        "      v[i] = x[i]\n",
        "      x[i] = (b[i] - Soma)/A[i][i]\n",
        "      t = abs(v[i] - x[i])\n",
        "\n",
        "      if t > NormaNum:\n",
        "        NormaNum = t\n",
        "      if abs(x[i]) > NormaDen:\n",
        "        NormaDen = abs(x[i])\n",
        "\n",
        "    NormaRel = NormaNum/NormaDen\n",
        "\n",
        "    print(It, x, NormaRel)\n",
        "  if NormaRel <= Tol:\n",
        "    Info = 0\n",
        "  else:\n",
        "    Info = 1\n",
        "\n",
        "  return x\n",
        "\n"
      ],
      "metadata": {
        "id": "a5aEYn7Lh5sD"
      },
      "execution_count": null,
      "outputs": []
    },
    {
      "cell_type": "code",
      "source": [
        "gauss_Seidel(3, ([10, 2, 1], [1, 5, 1], [2, 3, 10]), [7, -8, 6], 0.01, 1000)"
      ],
      "metadata": {
        "colab": {
          "base_uri": "https://localhost:8080/"
        },
        "id": "V8Xcaj6yj_YP",
        "outputId": "4d6cc163-4c10-4d20-95ef-d7b3b2740614"
      },
      "execution_count": null,
      "outputs": [
        {
          "output_type": "stream",
          "name": "stdout",
          "text": [
            "1 [0.96, -1.9120000000000001, 0.9816] 0.199581589958159\n",
            "2 [0.9842400000000001, -1.993168, 1.0011024] 0.04072311014425272\n",
            "3 [0.9985233600000001, -1.999925152, 1.0002728736] 0.0071419472802349985\n"
          ]
        },
        {
          "output_type": "execute_result",
          "data": {
            "text/plain": [
              "[0.9985233600000001, -1.999925152, 1.0002728736]"
            ]
          },
          "metadata": {},
          "execution_count": 392
        }
      ]
    },
    {
      "cell_type": "markdown",
      "source": [
        "#Relatório"
      ],
      "metadata": {
        "id": "7y-z6R23_3I0"
      }
    },
    {
      "cell_type": "markdown",
      "source": [
        "##1:Resolver os sistemas lineares pelos métodos Fatoração LU e Cholesky, se possível.\n",
        "Caso seja possível aplicar o método de Fatoração LU, encontre as matrizes L, U e o\n",
        "vetor solução. E, caso seja possível aplicar o método de Fatoração de Cholesky,\n",
        "encontre as matrizes G, GT e o vetor solução."
      ],
      "metadata": {
        "id": "iPl-Dy8V_5fz"
      }
    },
    {
      "cell_type": "markdown",
      "source": [
        "###Definindo as matrizes"
      ],
      "metadata": {
        "id": "zYDUHr-Yhly6"
      }
    },
    {
      "cell_type": "code",
      "source": [
        "A1 = [[None]*3 for _ in range(3)]\n",
        "A1 = [[1, -2, 1], [2, -2, 1], [3, -2, -2]]\n",
        "B1 = [[None]*1 for _ in range(3)]\n",
        "B1 = [0, 1, -1]\n",
        "\n",
        "A2 = [[5, 2, 1], [-1, 4, 2], [2, -3, 10]]\n",
        "\n",
        "B2 = [-12, 20, 3]\n"
      ],
      "metadata": {
        "id": "OGdlhggthj4q"
      },
      "execution_count": null,
      "outputs": []
    },
    {
      "cell_type": "markdown",
      "source": [
        "###Verificando se podem ser fatoradas em LU e por Cholesky"
      ],
      "metadata": {
        "id": "a_VrqKrLh8_C"
      }
    },
    {
      "cell_type": "code",
      "source": [
        "print(\"Matriz 1:\")\n",
        "verificaLU(3, A1)\n",
        "verificaCholesky(3, A1)\n",
        "\n",
        "print(\"\\nMatriz 2:\")\n",
        "verificaLU(3, A2)\n",
        "verificaCholesky(3, A2)\n"
      ],
      "metadata": {
        "colab": {
          "base_uri": "https://localhost:8080/"
        },
        "id": "yHX0OH0cFd4_",
        "outputId": "5fc2e3e4-3233-42ba-e142-a0fa132fbf45"
      },
      "execution_count": null,
      "outputs": [
        {
          "output_type": "stream",
          "name": "stdout",
          "text": [
            "Matriz 1:\n",
            "A matriz pode ser fatorada em L e U\n",
            "A matriz não pode ser fatorada por Cholesky\n",
            "\n",
            "Matriz 2:\n",
            "A matriz pode ser fatorada em L e U\n",
            "A matriz não pode ser fatorada por Cholesky\n"
          ]
        }
      ]
    },
    {
      "cell_type": "markdown",
      "source": [
        "###Aplicando fatoração por L e U"
      ],
      "metadata": {
        "id": "UFUEYxVbigZL"
      }
    },
    {
      "cell_type": "code",
      "source": [
        "print(\"Matriz 1:\")\n",
        "LU(3, 3, A1, B1)\n",
        "\n",
        "print(\"Matriz 2:\")\n",
        "LU(3, 3, A2, B2)"
      ],
      "metadata": {
        "colab": {
          "base_uri": "https://localhost:8080/"
        },
        "id": "D_L7vps8imC7",
        "outputId": "d1c727c5-9e3d-4e39-d307-cd9566554d3b"
      },
      "execution_count": null,
      "outputs": [
        {
          "output_type": "stream",
          "name": "stdout",
          "text": [
            "Matriz 1:\n",
            "Vetor Solução:\n",
            " [1.0, 0.9999999999999999, 1.0]\n",
            "\n",
            "Matriz L:\n",
            " --------  ---  -\n",
            "1         0    0\n",
            "0.333333  1    0\n",
            "0.666667  0.5  1\n",
            "--------  ---  -\n",
            "Matriz U:\n",
            " -  --------  --------\n",
            "3  -2        -2\n",
            "0  -1.33333   1.66667\n",
            "0   0         1.5\n",
            "-  --------  --------\n",
            "Matriz 2:\n",
            "Vetor Solução:\n",
            " [-4.0, 3.0, 2.0]\n",
            "\n",
            "Matriz L:\n",
            " ----  ---------  -\n",
            " 1     0         0\n",
            "-0.2   1         0\n",
            " 0.4  -0.863636  1\n",
            "----  ---------  -\n",
            "Matriz U:\n",
            " -  ---  ----\n",
            "5  2     1\n",
            "0  4.4   2.2\n",
            "0  0    11.5\n",
            "-  ---  ----\n"
          ]
        }
      ]
    },
    {
      "cell_type": "markdown",
      "source": [
        "##2:No\tdia\tdos\tnamorados,\tdois\trapazes\tpretendem\tcomprar\tum\tramo\tde\tflores,\n",
        "com\trosas\te\ttulipas,\tpara\toferecer\tàs\trespectivas\tnamoradas.\tConsidere\tx1\to\tnúmero\n",
        "de\trosas\te\tx2\to\tnúmero\tde\ttulipas\tde\tcada\tramo.\n",
        "\n",
        "O\tprimeiro\trapaz\tdecidi comprar\to\tramo\t\"Mil\tpétalas\"\tque\tcobra\tpor\tcada\trosa\t2\n",
        "reais\te\tpor\tcada\ttulipa\t2\treais,\tgastando\t10\treais.\n",
        "\n",
        "O\tsegundo\trapaz\tdecide\tcomprar\to\tramo\t\"Tudo\tem\tflor\",\tmas\ta\tflorista\tainda\testá\n",
        "indecisa\tno\tpreço\tque\tirá cobrar\tpor\tcada\trosa\t(considere\tesse\tpreço\tigual\ta\t\"k\")\n",
        "cobrando-lhe\t3\treais\tpor\tcada\ttulipa,\tficando\to\tramo\tpor\t13\treais.\n",
        "\n",
        "a)\tColoque\to\tproblema\tna\tforma\tde\tum\tsistema\tde\tequações\tlineares,\tem\tfunção\n",
        "de\tx1,\tx2\te\tk.\n",
        "\n",
        "b)\t Calcule\t justificando,\t o\t valor\t de\t k, de\t forma\t a\t garantir\t a\t convergência\t do\n",
        "método\t iterativo\t de\t Gauss-Jacobi na\t resolução\t do\t sistema\t (use\t apenas\t as\n",
        "condições\tsuficientes\tde\tconvergência\tbaseadas\tna\tmatriz\tdos\tcoeficientes,\tA)."
      ],
      "metadata": {
        "id": "EQbYvCslJ74N"
      }
    },
    {
      "cell_type": "markdown",
      "source": [
        "####A)\n"
      ],
      "metadata": {
        "id": "E8KcUBZoMJqi"
      }
    },
    {
      "cell_type": "markdown",
      "source": [
        "\n",
        "    2x1+2x2 = 10\n",
        "    kx1+3x2 = 13"
      ],
      "metadata": {
        "id": "N45QJUEUSz1P"
      }
    },
    {
      "cell_type": "markdown",
      "source": [
        "####B)"
      ],
      "metadata": {
        "id": "EGsS_b-BSmA3"
      }
    },
    {
      "cell_type": "markdown",
      "source": [
        "Matriz dos coeficientes\n",
        "    \n",
        "\n",
        "```\n",
        "    |2 2|\n",
        "    |k 3|\n",
        "```\n",
        "Para a convergência de Gauss-Jacobi, usarei o critério das linhas/colunas, ou seja, que a matriz seja estritamente diagonalmente dominante. Para tanto, os valores que estão na diagonal principal devem ser maiores que a soma dos módulos dos outros elementos de suas respectivas linhas/colunas. Neste caso:\n",
        "\n",
        "    Linhas:\n",
        "    2 > |2|\n",
        "    3 > |k|\n",
        "Neste caso, a convergência não pode ser garantida pois 2 não é maior que 2. Tentarei pelo critério das colunas\n",
        "\n",
        "    Colunas:\n",
        "    2 > |k|\n",
        "    3 > |2|\n",
        "Neste caso, existe a possibilidade de k assumir qualquer valor no seguinte intervalo\n",
        "\n",
        "    0 <= k < 2\n",
        "\n",
        "Escolherei 1 por questão de simplicidade.\n",
        "\n",
        "Logo\n",
        "\n",
        "    k = 1"
      ],
      "metadata": {
        "id": "HJqOwTnDNXFK"
      }
    },
    {
      "cell_type": "markdown",
      "source": [
        "##3:Uma\tequipe de\ttrês\tparaquedistas\tligados\tpor\tuma\tcorda\tde\tpeso\tdesprezável\té lançada\tem\tqueda\tlivre\ta\tuma\tvelocidade\tv\t=\t5\tm/s."
      ],
      "metadata": {
        "id": "gYgQfl9VS8df"
      }
    },
    {
      "cell_type": "markdown",
      "source": [
        "O\tsistema\tlinear\tresultante\tpermite\tcalcular\ta\ttensão\tem\tcada\tsecção\tda\tcorda\t(R\te\n",
        "T\t)\te\ta\taceleração\tda\tequipe (a).\n",
        "\n",
        "m1.\tg\t– c1.\tv\t– T\t\t\t\t\t\t\t\t\t=\tm1 .\ta\n",
        "\n",
        "m2.\tg\t– c2.\tv\t+\tT\t– R\t=\tm2 .\ta\n",
        "\n",
        "m3.\tg\t– c3.\tv\t\t\t\t\t\t\t\t+ R\t=\tm3 .\ta\n",
        "\n",
        "(considere\tg\t=\t9.8\tm/s2).\n",
        "\n",
        "O\tque\tpoderia\tdizer\tacerca\tda\tconvergência\tdo\tmétodo\titerativo\tde\tGauss-Seidel\n",
        "quando\taplicado\tao\tsistema?\tJustifique"
      ],
      "metadata": {
        "id": "MgWAxIFsTClP"
      }
    },
    {
      "cell_type": "markdown",
      "source": [
        "O sistema, preenchido de acordo com a tabela fornecida, é:\n",
        "    \n",
        "    70*9.8 - 10*5 - T = 70*a\n",
        "    60*9.8 - 14*5 + T - R = 60*a\n",
        "    40*9.8 - 17*5 + R = 40*a\n",
        "\n",
        "Arrumando pra ficar mais fácil de enxergar\n",
        "\n",
        "    70*a + T = 636\n",
        "    60*a - T + R = 518\n",
        "    40*a - R = 307\n",
        "\n",
        "A matriz dos coeficientes será:\n",
        "\n",
        "    70  1  0\n",
        "    60 -1  1\n",
        "    40  0 -1\n",
        "\n",
        "O método iterativo de Gauss-Seidel tem as mesmas condições de convergência que Gauss-Jacobi, porém com a adição do critério de Sassenfield\n",
        "    Linhas\n",
        "    70 > 1\n",
        "    1> 61\n",
        "    1> 40\n",
        "\n",
        "    Colunas\n",
        "    70> 100\n",
        "    1 > 1\n",
        "    1 > 1\n",
        "\n",
        "Os critérios de linhas e colunas não são satisfeitos, logo testaremos o critério de Sassenfield\n",
        "\n",
        "    B1 = 1/70<1\n",
        "    B2 = 60*1/70+1 = 1.8571<1\n",
        "    B3 = 40*1.8571+0 = 74,29<1\n",
        "Como podemos ver, apenas a primeira iteração satisfaz a condição. A partir daí, só nos resta calcular os autovalores\n",
        "\n",
        "    lambda1 = 70,84<1\n",
        "    lambda2 = |-1,42+0,62i|<1\n",
        "    lambda3 = |-1,42-0,62i|<1\n",
        "\n",
        "Podemos concluir então, que a solução do sistema não pode ser calculada por Gauss-Seidel, já que nenhum dos critérios foi atendido"
      ],
      "metadata": {
        "id": "q57EzByVT_VH"
      }
    },
    {
      "cell_type": "markdown",
      "source": [
        "##4 Resolva o seguinte sistema de equações\n",
        "    \n",
        "    1,05 x1 + 2,05 x2 = 5,15\n",
        "    1,1 x1 + 2,0 x2 = 5,1\n"
      ],
      "metadata": {
        "id": "PO17W0H_eUH3"
      }
    },
    {
      "cell_type": "markdown",
      "source": [
        "###a)Graficamente"
      ],
      "metadata": {
        "id": "mCVC7WNokP44"
      }
    },
    {
      "cell_type": "code",
      "source": [
        "x = sp.Symbol('x')\n",
        "f1 = (5.15 - 2.05 * x)/1.05\n",
        "f2 = (5.2 - 2*x)/1.1\n",
        "\n",
        "f1 = sp.lambdify(x, f1, 'numpy')\n",
        "f2 = sp.lambdify(x, f2, 'numpy')"
      ],
      "metadata": {
        "id": "wDDJ9xPRfpp3"
      },
      "execution_count": null,
      "outputs": []
    },
    {
      "cell_type": "code",
      "source": [
        "plotar(f1, f2, \"titulo\", 0, 3)"
      ],
      "metadata": {
        "colab": {
          "base_uri": "https://localhost:8080/",
          "height": 472
        },
        "id": "hDytEwi5exwH",
        "outputId": "e85eecf3-0f51-4a87-da47-2d6c8ec58454"
      },
      "execution_count": null,
      "outputs": [
        {
          "output_type": "display_data",
          "data": {
            "text/plain": [
              "<Figure size 640x480 with 1 Axes>"
            ],
            "image/png": "[encoded data removed]"
          },
          "metadata": {}
        }
      ]
    },
    {
      "cell_type": "markdown",
      "source": [
        "###b) Por eliminação de Gauss com Pivotamento Parcial, de modo exato"
      ],
      "metadata": {
        "id": "LkXcE2IQkXCg"
      }
    },
    {
      "cell_type": "code",
      "source": [
        "gauss([[1.05, 2.05], [1.1, 2]], [5.15, 5.1], 2)"
      ],
      "metadata": {
        "colab": {
          "base_uri": "https://localhost:8080/"
        },
        "id": "axwy3CxDkhDQ",
        "outputId": "d7ad556a-683f-4a3b-ce0b-c3861f480e3a"
      },
      "execution_count": null,
      "outputs": [
        {
          "output_type": "execute_result",
          "data": {
            "text/plain": [
              "array([1., 2.])"
            ]
          },
          "metadata": {},
          "execution_count": 398
        }
      ]
    },
    {
      "cell_type": "markdown",
      "source": [
        "c) Por Eliminação de Gauss com Pivotamento Parcial, mas com 3 algarismos\n",
        "significativos. Utilize aritmética de arredondamento."
      ],
      "metadata": {
        "id": "_vJayo9hmoY4"
      }
    },
    {
      "cell_type": "code",
      "source": [
        "gaussA([[1.05, 2.05], [1.1, 2]], [5.15, 5.1], 2)"
      ],
      "metadata": {
        "colab": {
          "base_uri": "https://localhost:8080/"
        },
        "id": "hLLwprl-moDJ",
        "outputId": "102d07c3-9385-4732-de76-abd400fa090b"
      },
      "execution_count": null,
      "outputs": [
        {
          "output_type": "execute_result",
          "data": {
            "text/plain": [
              "array([0.9871959 , 2.00704225])"
            ]
          },
          "metadata": {},
          "execution_count": 399
        }
      ]
    },
    {
      "cell_type": "markdown",
      "source": [
        "d)Justifique os resultados obtidos."
      ],
      "metadata": {
        "id": "r6Ok-FjemymB"
      }
    },
    {
      "cell_type": "markdown",
      "source": [
        "Na letra C, o algoritmo arredonda o valor para 3 casas decimais em diversos pontos, o que acarreta em uma perda de precisão em relação ao algoritmo original, mais exato. Isso permite gerar uma aproximação satisfatória dos valores reais, sem precisar trabalhar com números tão compridos."
      ],
      "metadata": {
        "id": "BootWRC0m2vh"
      }
    }
  ]
}