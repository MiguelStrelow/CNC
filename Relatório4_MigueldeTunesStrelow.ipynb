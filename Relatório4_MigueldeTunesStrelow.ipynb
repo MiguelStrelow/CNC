{
  "nbformat": 4,
  "nbformat_minor": 0,
  "metadata": {
    "colab": {
      "provenance": [],
      "authorship_tag": "ABX9TyPX45Am1DdOF4YFhSN+TI8h",
      "include_colab_link": true
    },
    "kernelspec": {
      "name": "python3",
      "display_name": "Python 3"
    },
    "language_info": {
      "name": "python"
    }
  },
  "cells": [
    {
      "cell_type": "markdown",
      "metadata": {
        "id": "view-in-github",
        "colab_type": "text"
      },
      "source": [
        "<a href=\"https://colab.research.google.com/github/MiguelStrelow/CNC/blob/main/Relat%C3%B3rio4_MigueldeTunesStrelow.ipynb\" target=\"_parent\"><img src=\"https://colab.research.google.com/assets/colab-badge.svg\" alt=\"Open In Colab\"/></a>"
      ]
    },
    {
      "cell_type": "markdown",
      "source": [
        "#Importando bibliotecas"
      ],
      "metadata": {
        "id": "vOiiQfQ0B2pp"
      }
    },
    {
      "cell_type": "code",
      "source": [
        "import sympy as sp\n",
        "import numpy as np\n",
        "import math as mt\n",
        "import matplotlib.pyplot as plt"
      ],
      "metadata": {
        "id": "L6JI9Wj9N0Ia"
      },
      "execution_count": null,
      "outputs": []
    },
    {
      "cell_type": "markdown",
      "source": [
        "#Definindo algumas utilidades e funções básicas\n",
        "\n"
      ],
      "metadata": {
        "id": "RCbgcA9SB5vZ"
      }
    },
    {
      "cell_type": "code",
      "source": [
        "def plotPontos(abs, ord):\n",
        "  plt.plot(abs, ord)\n",
        "  plt.xlabel('Eixo x')\n",
        "  plt.ylabel('Eixo y')\n",
        "  plt.grid(True, which='both')\n",
        "  plt.axhline(y=0, color='k')\n",
        "  plt.axvline(x=0, color='k')\n",
        "  plt.show()"
      ],
      "metadata": {
        "id": "CQC0bHxbKXQB"
      },
      "execution_count": null,
      "outputs": []
    },
    {
      "cell_type": "code",
      "source": [
        "x = sp.Symbol('x')\n",
        "y = sp.Symbol('y')"
      ],
      "metadata": {
        "id": "u5sFQ0-aOb6Q"
      },
      "execution_count": null,
      "outputs": []
    },
    {
      "cell_type": "code",
      "source": [
        "def trap1(h, f0, f1):\n",
        "  Trap = h * (f0 + f1)/2\n",
        "  return Trap"
      ],
      "metadata": {
        "id": "032snQWDosaw"
      },
      "execution_count": null,
      "outputs": []
    },
    {
      "cell_type": "code",
      "source": [
        "def simpson13(h, f0, f1, f2):\n",
        "\n",
        "  simp =  h * (f0 + 4 * f1 + f2) / 3\n",
        "\n",
        "  return simp"
      ],
      "metadata": {
        "id": "U6GDqxmmXgfp"
      },
      "execution_count": null,
      "outputs": []
    },
    {
      "cell_type": "code",
      "source": [
        "def simpson38(h, f0, f1, f2, f3):\n",
        "\n",
        "  simp = (3 * h * (f0 + 3 * (f1 + f2) + f3)) / 8\n",
        "\n",
        "  return simp"
      ],
      "metadata": {
        "id": "-vBPiGJHlgcj"
      },
      "execution_count": null,
      "outputs": []
    },
    {
      "cell_type": "code",
      "source": [
        "def constroi_mmq(coeficientes):\n",
        "  i = len(coeficientes)\n",
        "\n",
        "  pol = f\"{coeficientes[i-1]:.6f}\"\n",
        "\n",
        "  for k in range(0, i-1):\n",
        "\n",
        "    pol += f\"+ {coeficientes[k]:.6f} * x ** {i-k-1}\"\n",
        "\n",
        "\n",
        "\n",
        "  pol1 = sp.parsing.sympy_parser.parse_expr(pol)\n",
        "\n",
        "  print(f\"O polinômio calculado é:\\n\", pol1)\n",
        "\n",
        "  return pol1"
      ],
      "metadata": {
        "id": "rbbsm6NvRL4T"
      },
      "execution_count": null,
      "outputs": []
    },
    {
      "cell_type": "code",
      "source": [
        "def plotar(f1, f2, f3, abscissas, ordenadas, titulo, limite1, limite2):\n",
        "  aux = []\n",
        "  inicio = limite1\n",
        "  fim = limite2\n",
        "  nro_de_pontos = 10000\n",
        "  plt.axhline(y=0, color = \"black\", linestyle = '--')\n",
        "  curva = np.linspace(inicio, fim, nro_de_pontos)\n",
        "\n",
        "  f1 = sp.lambdify(x, f1, \"numpy\")\n",
        "  f2 = sp.lambdify(x, f2, \"numpy\")\n",
        "  f3 = sp.lambdify(x, f3, \"numpy\")\n",
        "\n",
        "  valores = [f1(valor) for valor in curva]\n",
        "  plt.plot(curva, valores, color = \"black\", linestyle='-')\n",
        "\n",
        "  valores2 = [f2(valor2) for valor2 in curva]\n",
        "  plt.plot(curva, valores2, color = \"red\",  linestyle='-')\n",
        "\n",
        "  valores3 = [f3(valor3) for valor3 in curva]\n",
        "  plt.plot(curva, valores3, color = \"green\",  linestyle='-')\n",
        "\n",
        "  plt.scatter(abscissas, ordenadas)\n",
        "  plt.title(titulo)\n",
        "  plt.xlabel('x')\n",
        "  plt.ylabel('f(x)')\n",
        "  plt.grid()\n",
        "  plt.show()\n"
      ],
      "metadata": {
        "id": "EyxA7PhCQo6J"
      },
      "execution_count": null,
      "outputs": []
    },
    {
      "cell_type": "code",
      "source": [
        "def mmq(pontos, abscissas, ordenadas, grauPol):\n",
        "  #Falta implementar a métrica\n",
        "  sumx = 0\n",
        "  sumxy = 0\n",
        "  sumxsqry = 0\n",
        "  sumxcby = 0\n",
        "  st = 0\n",
        "  sumy = 0\n",
        "  sumxsqr = 0\n",
        "  sumxcb = 0\n",
        "  sumxfr = 0\n",
        "  sumxqn = 0\n",
        "  sumxsx = 0\n",
        "  sr = 0\n",
        "\n",
        "  for i in range(0, pontos):\n",
        "\n",
        "    sumx += abscissas[i]\n",
        "    sumy += ordenadas[i]\n",
        "    sumxy += abscissas[i] * ordenadas[i]\n",
        "    sumxsqr += abscissas[i] * abscissas[i]\n",
        "    if grauPol >= 2:\n",
        "      sumxcb += (abscissas[i] ** 3)\n",
        "      sumxfr += (abscissas[i] ** 4)\n",
        "      sumxsqry += (abscissas[i] * abscissas[i] * ordenadas[i])\n",
        "      if grauPol >= 3:\n",
        "        sumxqn += (abscissas[i] ** 5)\n",
        "        sumxsx += (abscissas[i] ** 6)\n",
        "        sumxcby += ((abscissas[i] ** 3) * ordenadas[i])\n",
        "\n",
        "  mediax = sumx / pontos\n",
        "  mediay = sumy / pontos\n",
        "\n",
        "  if grauPol == 1:\n",
        "    Matriz = [[sumxsqr, sumx], [sumx, pontos]]\n",
        "    Vresults = [sumxy, sumy]\n",
        "#|sumxsqr   sumx | * |a| = |sumxy|\n",
        "#|sum x    pontos|   |b|   |sumy |\n",
        "\n",
        "\n",
        "  else:\n",
        "    if grauPol == 2:\n",
        "      Matriz = [[sumxfr, sumxcb, sumxsqr], [sumxcb, sumxsqr, sumx], [sumxsqr, sumx, pontos]]\n",
        "      Vresults = [sumxsqry, sumxy, sumy]\n",
        "#|sumxfr  sumxcb  sumxsqr| * |a| = |sumxsqry|\n",
        "#|sumxcb  sumxsqr  sumx  |   |b|   | sumxy  |\n",
        "#|sumxsqr sumx    pontos |   |c|   |  sumy  |\n",
        "    else:\n",
        "      if grauPol == 3:\n",
        "        Matriz = [[sumxsx, sumxqn, sumxfr, sumxcb],[sumxqn, sumxfr, sumxcb, sumxsqr], [sumxfr, sumxcb, sumxsqr, sumx], [sumxcb, sumxsqr, sumx, pontos]]\n",
        "        Vresults = [sumxcby, sumxsqry, sumxy, sumy]\n",
        "\n",
        "#|sumxsx  sumxqn  sumxfr  sumxcb |   |a|   |sumxcby |\n",
        "#|sumxqn  sumxfr  sumxcb  sumxsqr|   |b| = |sumxsqry|\n",
        "#|sumxfr  sumxcb  sumxsqr sumx   |   |c|   | sumxy  |\n",
        "#|sumxcb  sumxsqr  sumx   pontos |   |d|   |  sumy  |\n",
        "\n",
        "  a = gauss(Matriz, Vresults, grauPol+1)\n",
        "\n",
        "  return a\n",
        "\n"
      ],
      "metadata": {
        "id": "9k0EwmrdgC6M"
      },
      "execution_count": null,
      "outputs": []
    },
    {
      "cell_type": "code",
      "source": [
        "def gauss(A, b, n):\n",
        "  for j in range(0, n):\n",
        "    if abs(A[j][j] != 0):\n",
        "      r = 1/A[j][j]\n",
        "\n",
        "      for i in range(j+1, n):\n",
        "        mult = A[i][j]*r\n",
        "        A[i][j] = 0\n",
        "        for k in range(j+1, n):\n",
        "          A[i][k] = A[i][k] - mult*A[j][k]\n",
        "\n",
        "        b[i] = b[i] - mult*b[j]\n",
        "\n",
        "  res = np.linalg.solve(A, b)\n",
        "  return np.ndarray.tolist(res)"
      ],
      "metadata": {
        "id": "ivDpUPLIYh6o"
      },
      "execution_count": null,
      "outputs": []
    },
    {
      "cell_type": "markdown",
      "source": [
        "#Integração\n"
      ],
      "metadata": {
        "id": "ngrJtm5WI6v_"
      }
    },
    {
      "cell_type": "markdown",
      "source": [
        "##Método do trapézio repetido"
      ],
      "metadata": {
        "id": "hOMQ7142CM6c"
      }
    },
    {
      "cell_type": "code",
      "execution_count": null,
      "metadata": {
        "id": "3JhnhQznJSmX"
      },
      "outputs": [],
      "source": [
        "def trapezio(a, b, n, f, erromax):\n",
        "  f1 = sp.lambdify(x, f, \"numpy\")\n",
        "  h = (b - a) / n\n",
        "  sum = 0\n",
        "  for i in range(0, n):\n",
        "    x1 = a + i * h\n",
        "    x2 = a + (i + 1) * h\n",
        "    sum += trap1(h, f1(x1), f1(x2))\n",
        "\n",
        "\n",
        "  Simp = sum\n",
        "  derivada2 = sp.diff(f, x, 2)\n",
        "  derivada2 = sp.lambdify(x, derivada2, \"numpy\")\n",
        "\n",
        "  erro = (-n * h ** 3)/12 * derivada2(b)\n",
        "  if abs(erro) <= erromax:\n",
        "    return Simp, erro\n",
        "  else:\n",
        "    print(\"Erro acima do limite estabelecido, tente aumentar o número de subdivisões\")\n",
        "    return"
      ]
    },
    {
      "cell_type": "markdown",
      "source": [
        "###Método dos trapézios caso sejam dados os pontos, e não a função"
      ],
      "metadata": {
        "id": "ENdGL0CSMtcK"
      }
    },
    {
      "cell_type": "code",
      "source": [
        "def trapeziopontos(a, b, n, ord):\n",
        "  h = (b - a) / n\n",
        "  sum = 0\n",
        "  for i in range(0, n):\n",
        "    sum += trap1(h, ord[i], ord[i+1])\n",
        "\n",
        "  Simp = sum\n",
        "\n",
        "  return Simp"
      ],
      "metadata": {
        "id": "TQ-DPj3iLtCc"
      },
      "execution_count": null,
      "outputs": []
    },
    {
      "cell_type": "markdown",
      "source": [
        "##1/3 de Simpson repetido"
      ],
      "metadata": {
        "id": "9FtLgONjCQhV"
      }
    },
    {
      "cell_type": "code",
      "source": [
        "def simpson13r(a, b, n, f):\n",
        "  f = sp.lambdify(x, f)\n",
        "  h = (b - a) / n\n",
        "  sum = 0\n",
        "  for i in range(0, n, 2):\n",
        "    sum += simpson13(h, f(a + i * h), f(a + (i + 1) * h), f(a + (i + 2) * h))\n",
        "\n",
        "  Simp = sum\n",
        "\n",
        "  return Simp"
      ],
      "metadata": {
        "id": "FMQIxfaiSTL0"
      },
      "execution_count": null,
      "outputs": []
    },
    {
      "cell_type": "code",
      "source": [
        "def simpson13pontosr(a, b, n, abs):\n",
        "  h = (b - a) / n\n",
        "  sum = 0\n",
        "  for i in range(0, n, 2):\n",
        "    sum += simpson13(h, abs[i], abs[i+1], abs[i+2])\n",
        "\n",
        "  Simp = sum\n",
        "\n",
        "  return Simp"
      ],
      "metadata": {
        "id": "Jih_D9xDrRHy"
      },
      "execution_count": null,
      "outputs": []
    },
    {
      "cell_type": "markdown",
      "source": [
        "##3/8 de Simpson repetido"
      ],
      "metadata": {
        "id": "Fdu76Z_4CoSx"
      }
    },
    {
      "cell_type": "code",
      "source": [
        "def simpson38r(a, b, n, f):\n",
        "  h = (b - a) / n\n",
        "  sum = simpson38(h, f(a), f(a + h), f(a + 2 * h), f(a + 3 * h))\n",
        "  for i in range(2, n-1, 3):\n",
        "    sum += simpson38(h, f(a + (i+1) * h), f(a + (i+2) * h), f(a + (i+3) * h), f(a + (i+4) * h))\n",
        "\n",
        "  Simp = sum\n",
        "\n",
        "  return Simp"
      ],
      "metadata": {
        "id": "t4odmmzlkkpZ"
      },
      "execution_count": null,
      "outputs": []
    },
    {
      "cell_type": "code",
      "source": [
        "def simpson38pontosr(a, b, n, abs):\n",
        "  h = (b - a) / n\n",
        "  sum = simpson38(h, abs[0], abs[1], abs[2], abs[3])\n",
        "  for i in range(3, n, 3):\n",
        "    sum += simpson38(h, abs[i], abs[i+1], abs[i+2], abs[i+3])\n",
        "\n",
        "  Simp = sum\n",
        "\n",
        "  return Simp"
      ],
      "metadata": {
        "id": "SRaDHM9oSogL"
      },
      "execution_count": null,
      "outputs": []
    },
    {
      "cell_type": "markdown",
      "source": [
        "#Função que estava junto com as outras de Simpson então implementei mas não funciona\n",
        "Aí como não era necessário resolvi deixar comentada"
      ],
      "metadata": {
        "id": "GICYGKGiCt-6"
      }
    },
    {
      "cell_type": "code",
      "source": [
        "\"\"\"def SimpInt(a, b, n, f):\n",
        "  f = sp.lambdify(x, f, \"numpy\")\n",
        "  h = (b-a)/n\n",
        "  sum = 0\n",
        "  if n == 1:\n",
        "    sum = trap1(h, f(a), f(b))\n",
        "  else:\n",
        "    m = n\n",
        "    impar = n/2 - mt.floor(n/2)\n",
        "\n",
        "    if impar > 0 and n > 1:\n",
        "      sum += simpson38(h, n - 3, f)\n",
        "      m = n - 3\n",
        "\n",
        "    if m > 1:\n",
        "      sum += simpson13(a, b, m, f)\n",
        "\n",
        "  return sum\"\"\""
      ],
      "metadata": {
        "id": "gNOO18zmoM0A",
        "colab": {
          "base_uri": "https://localhost:8080/",
          "height": 336
        },
        "outputId": "d286dec0-7b14-465b-aacd-d280094c449f"
      },
      "execution_count": null,
      "outputs": [
        {
          "output_type": "execute_result",
          "data": {
            "text/plain": [
              "'def SimpInt(a, b, n, f):\\n  f = sp.lambdify(x, f, \"numpy\")\\n  h = (b-a)/n\\n  sum = 0\\n  if n == 1:\\n    sum = trap1(h, f(a), f(b))\\n  else:\\n    m = n\\n    impar = n/2 - mt.floor(n/2)\\n\\n    if impar > 0 and n > 1:\\n      sum += simpson38(h, n - 3, f)\\n      m = n - 3\\n\\n    if m > 1:\\n      sum += simpson13(a, b, m, f)\\n\\n  return sum'"
            ],
            "application/vnd.google.colaboratory.intrinsic+json": {
              "type": "string"
            }
          },
          "metadata": {},
          "execution_count": 17
        }
      ]
    },
    {
      "cell_type": "markdown",
      "source": [
        "#Derivação"
      ],
      "metadata": {
        "id": "YHQ3tZIrJEMh"
      }
    },
    {
      "cell_type": "markdown",
      "source": [
        "##Método de Euler"
      ],
      "metadata": {
        "id": "uf6YIj-eDKCP"
      }
    },
    {
      "cell_type": "code",
      "source": [
        "def euler(a, b, y0, m, f):\n",
        "  f = sp.lambdify([x, y], f, \"numpy\")\n",
        "  h = (b - a) / m\n",
        "  vetX = [0 for _ in range(m+1)]\n",
        "  vetY = [0 for _ in range(m+1)]\n",
        "  abs = a\n",
        "  ord = y0\n",
        "  vetX[0] = abs\n",
        "  vetY[0] = ord\n",
        "  fxy = f(abs,ord)\n",
        "  for i in range(m+1):\n",
        "    abs = a + i * h\n",
        "    ord += h * fxy\n",
        "    fxy = f(abs, ord)\n",
        "    vetX[i] = abs\n",
        "    vetY[i] = ord\n",
        "\n",
        "  return vetX, vetY"
      ],
      "metadata": {
        "id": "O9b0Yfp9rMLH"
      },
      "execution_count": null,
      "outputs": []
    },
    {
      "cell_type": "markdown",
      "source": [
        "##Método de Runge-Kutta de grau 2"
      ],
      "metadata": {
        "id": "-u-U6O12DOuo"
      }
    },
    {
      "cell_type": "code",
      "source": [
        "def RK2(a, b, y0, h, m, f):\n",
        "  f = sp.lambdify([x, y], f, \"numpy\")\n",
        "  xt = a\n",
        "  yt = y0\n",
        "  vetX = [0 for _ in range(m+1)]\n",
        "  vetY = [0 for _ in range(m+1)]\n",
        "  vetX[0] = xt\n",
        "  vetY[0] = yt\n",
        "  for i in range(1, m+1):\n",
        "\n",
        "    k1 = h * f(vetX[i-1], vetY[i-1])\n",
        "\n",
        "    abs = vetX[i - 1] + h\n",
        "    ord = vetY[i - 1] + k1\n",
        "    k2 = h * f(abs, ord)\n",
        "\n",
        "    yt +=  (k1 + k2)/2\n",
        "\n",
        "    vetX[i] = abs\n",
        "    vetY[i] = yt\n",
        "\n",
        "  return vetX, vetY"
      ],
      "metadata": {
        "id": "qmxAIDo9yFaI"
      },
      "execution_count": null,
      "outputs": []
    },
    {
      "cell_type": "markdown",
      "source": [
        "##Método de Runge-Kutta de grau 4 (Não precisava tbm mas tava no e-aula então eu fiz)(Não sei se está funcionando)"
      ],
      "metadata": {
        "id": "jbrLm4KBDU5h"
      }
    },
    {
      "cell_type": "code",
      "source": [
        "def RK4(a, b, y0, m):\n",
        "  h = (b - a) / m\n",
        "  xt = a\n",
        "  yt = y0\n",
        "  vetX[0] = xt\n",
        "  vetY[0] = yt\n",
        "  for i in range(m):\n",
        "    abs = xt\n",
        "    ord = yt\n",
        "    k1 = f(abs, ord)\n",
        "\n",
        "    abs = xt + h / 2\n",
        "    ord = yt + h / 2 * k1\n",
        "    k2 = f(abs, ord)\n",
        "\n",
        "    ord = yt + h / 2 * k2\n",
        "    k3 = f(abs, ord)\n",
        "\n",
        "    abs = xt + h\n",
        "    ord = yt + h * k3\n",
        "    k4 = f(abs, ord)\n",
        "\n",
        "    xt = a + i * h\n",
        "    yt += h/6 * (k1 + 2 * (k2 + k3) + k4)\n",
        "\n",
        "    vetX[i] = xt\n",
        "    vetY[i] = yt\n",
        "\n",
        "  return vetX, vetY"
      ],
      "metadata": {
        "id": "GIolZpuwvY1D"
      },
      "execution_count": null,
      "outputs": []
    },
    {
      "cell_type": "markdown",
      "source": [
        "#Testes"
      ],
      "metadata": {
        "id": "ICbV8ad3DgSK"
      }
    },
    {
      "cell_type": "code",
      "source": [
        "#f = 2/(x**2 + 4)\n",
        "#trapezio(0, 2, 6, f)"
      ],
      "metadata": {
        "id": "PQsT-8E-QP0e"
      },
      "execution_count": null,
      "outputs": []
    },
    {
      "cell_type": "code",
      "source": [
        "f = x**2\n",
        "simpson13r(0, 10, 8, f)"
      ],
      "metadata": {
        "colab": {
          "base_uri": "https://localhost:8080/"
        },
        "id": "ENIvp9ElUZ_T",
        "outputId": "602a3b98-3490-4e1f-cb3f-84b0abf588b5"
      },
      "execution_count": null,
      "outputs": [
        {
          "output_type": "execute_result",
          "data": {
            "text/plain": [
              "333.33333333333337"
            ]
          },
          "metadata": {},
          "execution_count": 22
        }
      ]
    },
    {
      "cell_type": "code",
      "source": [
        "f = sp.lambdify(x, x**2)\n",
        "simpson38r(0, 10, 21, f)"
      ],
      "metadata": {
        "colab": {
          "base_uri": "https://localhost:8080/"
        },
        "id": "yki29EMdoA65",
        "outputId": "b3bee202-c569-4555-c336-2b512230186a"
      },
      "execution_count": null,
      "outputs": [
        {
          "output_type": "execute_result",
          "data": {
            "text/plain": [
              "333.33333333333326"
            ]
          },
          "metadata": {},
          "execution_count": 23
        }
      ]
    },
    {
      "cell_type": "code",
      "source": [
        "f = y*x\n",
        "euler(0, 1, 1, 10, f)"
      ],
      "metadata": {
        "colab": {
          "base_uri": "https://localhost:8080/"
        },
        "id": "4LUKelKFECNZ",
        "outputId": "d500c404-7c18-4f0f-a62a-dde1b616eba2"
      },
      "execution_count": null,
      "outputs": [
        {
          "output_type": "execute_result",
          "data": {
            "text/plain": [
              "([0.0,\n",
              "  0.1,\n",
              "  0.2,\n",
              "  0.30000000000000004,\n",
              "  0.4,\n",
              "  0.5,\n",
              "  0.6000000000000001,\n",
              "  0.7000000000000001,\n",
              "  0.8,\n",
              "  0.9,\n",
              "  1.0],\n",
              " [1.0,\n",
              "  1.0,\n",
              "  1.01,\n",
              "  1.0302,\n",
              "  1.061106,\n",
              "  1.1035502400000001,\n",
              "  1.158727752,\n",
              "  1.22825141712,\n",
              "  1.3142290163184,\n",
              "  1.419367337623872,\n",
              "  1.5471103980100205])"
            ]
          },
          "metadata": {},
          "execution_count": 24
        }
      ]
    },
    {
      "cell_type": "code",
      "source": [
        "f = -x*y\n",
        "RK2(0, 1, 1, 0.1, 10, f)"
      ],
      "metadata": {
        "colab": {
          "base_uri": "https://localhost:8080/"
        },
        "id": "4rmey40vHQhw",
        "outputId": "2c7804d1-f43f-4970-b68f-042debc7b460"
      },
      "execution_count": null,
      "outputs": [
        {
          "output_type": "execute_result",
          "data": {
            "text/plain": [
              "([0,\n",
              "  0.1,\n",
              "  0.2,\n",
              "  0.30000000000000004,\n",
              "  0.4,\n",
              "  0.5,\n",
              "  0.6,\n",
              "  0.7,\n",
              "  0.7999999999999999,\n",
              "  0.8999999999999999,\n",
              "  0.9999999999999999],\n",
              " [1,\n",
              "  0.995,\n",
              "  0.9801745,\n",
              "  0.95596418985,\n",
              "  0.92307902171916,\n",
              "  0.882463544763517,\n",
              "  0.8352517451186688,\n",
              "  0.7827144103507045,\n",
              "  0.7262024299233837,\n",
              "  0.6670895521276202,\n",
              "  0.6067179476600706])"
            ]
          },
          "metadata": {},
          "execution_count": 25
        }
      ]
    },
    {
      "cell_type": "markdown",
      "source": [
        "#Relatório 4"
      ],
      "metadata": {
        "id": "HEJCIsyEHPYM"
      }
    },
    {
      "cell_type": "markdown",
      "source": [
        "##1)\n",
        "Uma corrida tem duas fases distintas: na primeira, a fase mais curta, o\n",
        "movimento do carro é perfeitamente não determinístico, dependendo das\n",
        "derrapagens e da forma como o condutor consegue dominar o carro. Na segunda\n",
        "fase, o carro tem um movimento muito rápido, cuja aceleração está\n",
        "perfeitamente definida.\n",
        "Considere a prova do condutor X de duração 7,5 s. Na primeira fase os valores\n",
        "da aceleração em cada instante encontram-se na tabela abaixo.![image.png](data:image/png;base64,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)\n",
        "\n",
        "Na segunda fase da corrida a aceleração é definida pela seguinte expressão:\n",
        "\n",
        "    a(t) = 0,5t^2 -0,15t para t ∈ [1,5; 7,5]\n"
      ],
      "metadata": {
        "id": "gJ3aNxYyHTL9"
      }
    },
    {
      "cell_type": "markdown",
      "source": [
        "###a) Estime a velocidade na primeira fase da corrida, utilizando a fórmula da integração mais adequada."
      ],
      "metadata": {
        "id": "PWyzW-PUIlxk"
      }
    },
    {
      "cell_type": "code",
      "source": [
        "#Primeiro, analisar o gráfico\n",
        "t = [0, 0.5, 1, 1.5]\n",
        "A = [0, 0.35, 0.55, 0.9]\n",
        "plotPontos(t, A)"
      ],
      "metadata": {
        "colab": {
          "base_uri": "https://localhost:8080/",
          "height": 449
        },
        "id": "SmiMf8lAItlV",
        "outputId": "068dfd3a-2ff4-49a3-d1dd-10224c9553d5"
      },
      "execution_count": null,
      "outputs": [
        {
          "output_type": "display_data",
          "data": {
            "text/plain": [
              "<Figure size 640x480 with 1 Axes>"
            ],
            "image/png": "[encoded data removed]"
          },
          "metadata": {}
        }
      ]
    },
    {
      "cell_type": "code",
      "source": [
        "#Olhando para o gráfico, notamos a formação de 3 trapézios. Acredito, com base nisso, que os método dos trapézios seja o mais indicado.\n",
        "vm = trapeziopontos(0, 1.5, 3, A)\n",
        "print(\"A velocidade média na primeira fase é:\", vm, \"U.V.\")\n",
        "#Como a quantidade de subdivisões é impar, só podemos usar o método 3/8 de simpson\n",
        "vm = simpson38pontosr(0, 1.5, 3, A)\n",
        "print(\"A velocidade média na primeira fase é:\", vm, \"U.V.\")\n",
        "print(\"O valor é igual para ambos os métodos.\")"
      ],
      "metadata": {
        "colab": {
          "base_uri": "https://localhost:8080/"
        },
        "id": "y1qEHtKJLHEQ",
        "outputId": "9846589e-f57b-4dd0-ff3e-2cd35389d044"
      },
      "execution_count": null,
      "outputs": [
        {
          "output_type": "stream",
          "name": "stdout",
          "text": [
            "A velocidade média na primeira fase é: 0.675 U.V.\n",
            "A velocidade média na primeira fase é: 0.675 U.V.\n",
            "O valor é igual para ambos os métodos.\n"
          ]
        }
      ]
    },
    {
      "cell_type": "markdown",
      "source": [
        "###b) Estime a velocidade na segunda fase da corrida, utilizando a fórmula repetida do Trapézio com erro de truncamento em valor absoluto inferior a 0,3."
      ],
      "metadata": {
        "id": "9s0jeh_SIqUs"
      }
    },
    {
      "cell_type": "code",
      "source": [
        "f = 0.5 * x ** 2 - 0.15 * x\n",
        "vm = trapezio(1.5, 7.5, 6, f, 0.3)"
      ],
      "metadata": {
        "colab": {
          "base_uri": "https://localhost:8080/"
        },
        "id": "EiZXDbwYP1ut",
        "outputId": "8ac656e2-0d09-4635-941b-4381c1bc01a3"
      },
      "execution_count": null,
      "outputs": [
        {
          "output_type": "stream",
          "name": "stdout",
          "text": [
            "Erro acima do limite estabelecido, tente aumentar o número de subdivisões\n"
          ]
        }
      ]
    },
    {
      "cell_type": "code",
      "source": [
        "#Aumentando o número\n",
        "vm, erro = trapezio(1.5, 7.5, 8, f, 0.3)\n",
        "print(\"A velocidade na segunda etapa da corrida é de, aproximadamente, \", vm ,\"U.V. com um erro de aproximadamente +-\", abs(erro), \"U.V.\")"
      ],
      "metadata": {
        "colab": {
          "base_uri": "https://localhost:8080/"
        },
        "id": "sj-LrzAiec-_",
        "outputId": "5f2a3faf-a5fd-47ee-a248-dbab29a7fa13"
      },
      "execution_count": null,
      "outputs": [
        {
          "output_type": "stream",
          "name": "stdout",
          "text": [
            "A velocidade na segunda etapa da corrida é de, aproximadamente,  65.98125 U.V. com um erro de aproximadamente +- 0.28125 U.V.\n"
          ]
        }
      ]
    },
    {
      "cell_type": "code",
      "source": [
        "#8 parece ser o número mínimo de subdivisões necessárias. Tentarei com valores maiores apenas para ver qual o menor erro que posso conseguir\n",
        "#Isso vai ficar comentado pra não atrapalhar o tempo de execução do trabalho\n",
        "#Depois vou fazer isso em C pra rodar mais rápido\n",
        "#Mentira\n",
        "#vm = trapezio(1.5, 7.5, 100000000, f, 0.3)\n",
        "#print(vm)"
      ],
      "metadata": {
        "id": "Xf-Ua9VGek_z"
      },
      "execution_count": null,
      "outputs": []
    },
    {
      "cell_type": "markdown",
      "source": [
        "##2)\n",
        "A disciplina de Cálculo Numérico Computacional de um curso de Computação no\n",
        "ano letivo 2022/2 teve 92 alunos inscritos. Inicialmente, um grupo de 10 alunos\n",
        "resolveu lançar o boato de que o exame iria ser cancelado.\n",
        "Em média cada estudante conversa com outros colegas a uma taxa de 2\n",
        "estudantes/hora, podendo estes já saberem ou não da novidade. Se y\n",
        "representar o número de estudantes que sabem do boato no instante de tempo\n",
        "t (horas) então a taxa de recepção do boato é dada por:\n",
        "\n",
        "![image.png](data:image/png;base64,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)\n",
        "\n",
        "Utilizando o método mais adequado que estudou, calcule o número de\n",
        "estudantes que após 3 horas tomou conhecimento do boato (use h = 1)."
      ],
      "metadata": {
        "id": "j3LBMfayHwWL"
      }
    },
    {
      "cell_type": "code",
      "source": [
        "f = (2*y*(92-y)/92)\n",
        "\n",
        "r1, r2 = RK2(0, 3, 10, 1, 3, f)\n",
        "\n",
        "print(\"Após 3 horas,\", sp.floor(r2[3]), \"estudantes conheciam o boato\")"
      ],
      "metadata": {
        "colab": {
          "base_uri": "https://localhost:8080/"
        },
        "id": "Tc2jc4eih4Pg",
        "outputId": "14df900f-4f4d-46c8-8f4f-050d5e095ed6"
      },
      "execution_count": null,
      "outputs": [
        {
          "output_type": "stream",
          "name": "stdout",
          "text": [
            "Após 3 horas, 73 estudantes conheciam o boato\n"
          ]
        }
      ]
    },
    {
      "cell_type": "markdown",
      "source": [
        "##3)\n",
        "A coleta de dados sobre a temperatura em relação à posição para alguns corpos\n",
        "de prova, apresentaram os seguintes cenários:\n",
        "\n",
        "![image.png](data:image/png;base64,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)\n",
        "\n",
        "Obtenha a temperatura média para cada um dos corpos. Para a integração\n",
        "numérica, utilize as regras do Trapézio e de 1/3 de Simpson.\n",
        "\n",
        "\n"
      ],
      "metadata": {
        "id": "LU8hPFlZIA3N"
      }
    },
    {
      "cell_type": "code",
      "source": [
        "#A temperatura média é obtida dividindo o resultado da integral definida pelo comprimento do intervalo\n",
        "mA = [0, 0.2, 0.4, 0.6, 0.8, 1, 1.2, 1.4]\n",
        "TA = [300, 320, 350, 380, 375, 360, 340, 320]\n",
        "\n",
        "mB = [0, 0.1, 0.2, 0.3, 0.4, 0.5]\n",
        "TB = [290, 303, 320, 341, 365, 397]\n",
        "\n",
        "mC = [0, 0.2, 0.4, 0.6, 0.8, 1, 1.2, 1.4]\n",
        "TC = [300, 320, 350, 380, 375, 360, 340, 320]\n",
        "\n",
        "\n",
        "tpa = trapeziopontos(0, 1.4, 7, TA)\n",
        "#Para 1/3 de simpson, precisamos de um número par de subdivisões. Para tal, desprezaremos o último valor fornecido\n",
        "spa = simpson13pontosr(0, 1.2, 6, TA)\n",
        "print(\"A temperatura média do corpo A é, por trapézio:\", tpa/1.4)\n",
        "print(\"Por Simpson:\", spa/1.2)\n",
        "\n",
        "tpb = trapeziopontos(0, 0.5, 5, TB)\n",
        "#Mesma lógica que anterior\n",
        "spb = simpson13pontosr(0, 0.4, 4, TB)\n",
        "print(\"A temperatura média do corpo B é, por trapézio:\", tpb/0.5)\n",
        "print(\"Por Simpson:\", spb/0.4)\n",
        "\n",
        "\n",
        "tpc = trapeziopontos(0, 1.4, 7, TC)\n",
        "spc = simpson13pontosr(0, 1.2, 6, TC)\n",
        "print(\"A temperatura média do corpo C é, por trapézio:\", tpa/1.4)\n",
        "print(\"Por Simpson:\", spc/1.2)\n"
      ],
      "metadata": {
        "colab": {
          "base_uri": "https://localhost:8080/"
        },
        "id": "laWEpVBYnfaQ",
        "outputId": "88698950-10d8-4072-f9d9-5e3f95d38faa"
      },
      "execution_count": null,
      "outputs": [
        {
          "output_type": "stream",
          "name": "stdout",
          "text": [
            "A temperatura média do corpo A é, por trapézio: 347.8571428571429\n",
            "Por Simpson: 351.6666666666667\n",
            "A temperatura média do corpo B é, por trapézio: 334.5\n",
            "Por Simpson: 322.5833333333333\n",
            "A temperatura média do corpo C é, por trapézio: 347.8571428571429\n",
            "Por Simpson: 351.6666666666667\n"
          ]
        }
      ]
    },
    {
      "cell_type": "code",
      "source": [
        "plotPontos(mA, TA)\n",
        "plotPontos(mB, TB)\n",
        "plotPontos(mC, TC)"
      ],
      "metadata": {
        "colab": {
          "base_uri": "https://localhost:8080/",
          "height": 1000
        },
        "id": "3_Z_5ELtqvG-",
        "outputId": "c5ab45dd-c0aa-4f73-ab47-bdec6a41de41"
      },
      "execution_count": null,
      "outputs": [
        {
          "output_type": "display_data",
          "data": {
            "text/plain": [
              "<Figure size 640x480 with 1 Axes>"
            ],
            "image/png": "[encoded data removed]"
          },
          "metadata": {}
        },
        {
          "output_type": "display_data",
          "data": {
            "text/plain": [
              "<Figure size 640x480 with 1 Axes>"
            ],
            "image/png": "[encoded data removed]"
          },
          "metadata": {}
        },
        {
          "output_type": "display_data",
          "data": {
            "text/plain": [
              "<Figure size 640x480 with 1 Axes>"
            ],
            "image/png": "[encoded data removed]"
          },
          "metadata": {}
        }
      ]
    },
    {
      "cell_type": "markdown",
      "source": [
        "##4)\n",
        "Acompanhando-se a trajetória de algumas partículas, obtiveram-se os seguintes\n",
        "resultados em função do tempo:\n",
        "![image.png](data:image/png;base64,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)\n",
        "\n",
        "Obtenha estimativas para a velocidade e a aceleração de cada partícula para\n",
        "cada instante de tempo. Utilize expressões para as derivadas numéricas de\n",
        "primeira ordem."
      ],
      "metadata": {
        "id": "Y2vVjVpsITgo"
      }
    },
    {
      "cell_type": "code",
      "source": [
        "#Como o método de Euler requer uma função, pegarei emprestado um polinômio interpolador do relatório passado\n",
        "at = [0, 10, 20, 30, 40, 50, 60, 70]\n",
        "am = [0, 15, 35, 60, 90, 125, 165, 210]\n",
        "bt = [0, 10, 20, 30, 40, 50, 60, 70]\n",
        "bm = [0, 20, 35, 45, 60, 75, 90, 120]\n",
        "ct = [0, 10, 20, 30, 40, 50, 60, 70]\n",
        "cm = [0, 80, 120, 80, 75, 90, 120, 130]\n",
        "#Primeiro, construo o polinômio aproximativo, em seguida, derivo por euler\n",
        "af = constroi_mmq(mmq(8, at, am, 3))\n",
        "ax, ay = euler(0, 70, 0, 7, af)\n",
        "print(\"As estimativas da velocidade da particula a são:\", ay)#Tudo errado\n",
        "bf = constroi_mmq(mmq(8, bt, bm, 3))\n",
        "bx, by = euler(0, 70, 0, 7, bf)\n",
        "print(\"As estimativas da velocidade da particula b são:\", by)\n",
        "cf = constroi_mmq(mmq(8, ct, cm, 3))\n",
        "cx, cy = euler(0, 70, 0, 7, cf)\n",
        "print(\"As estimativas da velocidade da particula c são:\", cy)\n",
        "\n",
        "#Para a aceleração, repetimos o processo\n",
        "af = constroi_mmq(mmq(8, ax, ay, 3))\n",
        "ax, ay = euler(0, 70, 0, 7, af)\n",
        "print(\"\\nAs estimativas da aceleração da particula a são:\", ay)\n",
        "bf = constroi_mmq(mmq(8, bx, by, 3))\n",
        "bx, by = euler(0, 70, 0, 7, bf)\n",
        "print(\"As estimativas da aceleração da particula b são:\", by)\n",
        "cf = constroi_mmq(mmq(8, cx, cy, 3))\n",
        "cx, cy = euler(0, 70, 75, 7, cf)\n",
        "print(\"As estimativas da aceleração da particula c são:\", cy)\n",
        "#Parece estar tudo errado, mas bateu com o resultado da calculadora online"
      ],
      "metadata": {
        "colab": {
          "base_uri": "https://localhost:8080/"
        },
        "id": "P1z5OjavHrb2",
        "outputId": "84b572aa-4156-413d-91c8-8af0b087bac7"
      },
      "execution_count": null,
      "outputs": [
        {
          "output_type": "stream",
          "name": "stdout",
          "text": [
            "O polinômio calculado é:\n",
            " 0.025*x**2 + 1.25*x\n",
            "As estimativas da velocidade da particula a são: [0.0, 0.0, 150.0, 500.0, 1100.0, 2000.0, 3250.0, 4900.0]\n",
            "O polinômio calculado é:\n",
            " 0.000417*x**3 - 0.038095*x**2 + 2.327381*x\n",
            "As estimativas da velocidade da particula b são: [0.0, 0.0, 198.8131, 545.2692999999999, 1013.2185999999999, 1601.531, 2334.0965, 3259.8251]\n",
            "O polinômio calculado é:\n",
            " 0.002361*x**3 - 0.265476*x**2 + 8.930556*x + 7.5\n",
            "As estimativas da velocidade da particula c são: [75.0, 150.0, 876.1895999999999, 1864.2767999999996, 2866.6295999999993, 3777.275999999999, 4631.903999999999, 5607.861599999998]\n",
            "O polinômio calculado é:\n",
            " 0.008333*x**3 + 0.5*x**2 - 5.833333*x\n",
            "\n",
            "As estimativas da aceleração da particula a são: [0.0, 0.0, -0.003299999999981651, 1499.9701, 6499.8802, 17499.667, 37499.2505, 69998.5307]\n",
            "O polinômio calculado é:\n",
            " -0.000188*x**3 + 0.731644*x**2 - 3.723322*x - 12.51\n",
            "As estimativas da aceleração da particula b são: [-125.1, -250.2, -17.8682, 2023.9033999999997, 7315.8428, 17287.398, 33356.737, 56930.7478]\n",
            "O polinômio calculado é:\n",
            " -0.017662*x**3 + 2.268022*x**2 + 6.82312*x + 4.17\n",
            "As estimativas da aceleração da particula c são: [116.7, 158.4, 2973.8140000000003, 12039.266000000001, 29771.36, 57526.98000000001, 95603.29000000001, 143237.734]\n"
          ]
        }
      ]
    }
  ]
}