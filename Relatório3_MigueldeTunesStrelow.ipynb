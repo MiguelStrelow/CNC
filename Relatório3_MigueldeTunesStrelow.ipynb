{
  "nbformat": 4,
  "nbformat_minor": 0,
  "metadata": {
    "colab": {
      "provenance": [],
      "authorship_tag": "ABX9TyMpCZ/JInX6+gLvkvnBp+sx",
      "include_colab_link": true
    },
    "kernelspec": {
      "name": "python3",
      "display_name": "Python 3"
    },
    "language_info": {
      "name": "python"
    }
  },
  "cells": [
    {
      "cell_type": "markdown",
      "metadata": {
        "id": "view-in-github",
        "colab_type": "text"
      },
      "source": [
        "<a href=\"https://colab.research.google.com/github/MiguelStrelow/CNC/blob/main/Relat%C3%B3rio3_MigueldeTunesStrelow.ipynb\" target=\"_parent\"><img src=\"https://colab.research.google.com/assets/colab-badge.svg\" alt=\"Open In Colab\"/></a>"
      ]
    },
    {
      "cell_type": "code",
      "source": [
        "import math as mt\n",
        "import numpy as np\n",
        "import matplotlib.pyplot as plt\n",
        "import sympy as sp"
      ],
      "metadata": {
        "id": "XxBIA5FjmV-W"
      },
      "execution_count": null,
      "outputs": []
    },
    {
      "cell_type": "markdown",
      "source": [
        "##Algumas utilidades\n"
      ],
      "metadata": {
        "id": "9n2XkPujjUxr"
      }
    },
    {
      "cell_type": "code",
      "source": [
        "x = sp.Symbol('x')"
      ],
      "metadata": {
        "id": "86V4Srs86Csp"
      },
      "execution_count": null,
      "outputs": []
    },
    {
      "cell_type": "code",
      "source": [
        "def constroi_PolN_(i, Dif, abscissas):\n",
        "        pol = f\"{Dif[i]:.6f}\"\n",
        "\n",
        "        for k in range(i):\n",
        "\n",
        "            pol += f\" * (x - {abscissas[k]:.6f})\"\n",
        "\n",
        "        return pol"
      ],
      "metadata": {
        "id": "2y9flPDiugVl"
      },
      "execution_count": null,
      "outputs": []
    },
    {
      "cell_type": "code",
      "source": [
        "def constroi_PolN(abscissas, Dif, pontos):\n",
        "\n",
        "  pol = constroi_PolN_(0, Dif, abscissas)\n",
        "\n",
        "  for i in range(1, pontos):\n",
        "\n",
        "      pol += f\" + {constroi_PolN_(i, Dif, abscissas)}\"\n",
        "\n",
        "  print(f\"O polinômio calculado é:\\n{pol}\")"
      ],
      "metadata": {
        "id": "2nHwuJoDuOv2"
      },
      "execution_count": null,
      "outputs": []
    },
    {
      "cell_type": "code",
      "source": [
        "def constroi_mmq(coeficientes):\n",
        "  i = len(coeficientes)\n",
        "\n",
        "  pol = f\"{coeficientes[i-1]:.6f}\"\n",
        "\n",
        "  for k in range(0, i-1):\n",
        "\n",
        "    pol += f\"+ {coeficientes[k]:.6f} * x ** {i-k-1}\"\n",
        "\n",
        "\n",
        "\n",
        "  pol1 = sp.parsing.sympy_parser.parse_expr(pol)\n",
        "\n",
        "  print(f\"O polinômio calculado é:\\n\", pol1)\n",
        "\n",
        "  return pol1"
      ],
      "metadata": {
        "id": "rbbsm6NvRL4T"
      },
      "execution_count": null,
      "outputs": []
    },
    {
      "cell_type": "code",
      "source": [
        "def gauss(A, b, n):\n",
        "  for j in range(0, n):\n",
        "    if abs(A[j][j] != 0):\n",
        "      r = 1/A[j][j]\n",
        "\n",
        "      for i in range(j+1, n):\n",
        "        mult = A[i][j]*r\n",
        "        A[i][j] = 0\n",
        "        for k in range(j+1, n):\n",
        "          A[i][k] = A[i][k] - mult*A[j][k]\n",
        "\n",
        "        b[i] = b[i] - mult*b[j]\n",
        "\n",
        "  res = np.linalg.solve(A, b)\n",
        "  return np.ndarray.tolist(res)"
      ],
      "metadata": {
        "id": "ivDpUPLIYh6o"
      },
      "execution_count": null,
      "outputs": []
    },
    {
      "cell_type": "code",
      "source": [
        "def plotar(f1, f2, f3, abscissas, ordenadas, titulo, limite1, limite2):\n",
        "  aux = []\n",
        "  inicio = limite1\n",
        "  fim = limite2\n",
        "  nro_de_pontos = 10000\n",
        "  plt.axhline(y=0, color = \"black\", linestyle = '--')\n",
        "  curva = np.linspace(inicio, fim, nro_de_pontos)\n",
        "\n",
        "  f1 = sp.lambdify(x, f1, \"numpy\")\n",
        "  f2 = sp.lambdify(x, f2, \"numpy\")\n",
        "  f3 = sp.lambdify(x, f3, \"numpy\")\n",
        "\n",
        "  valores = [f1(valor) for valor in curva]\n",
        "  plt.plot(curva, valores, color = \"black\", linestyle='-')\n",
        "\n",
        "  valores2 = [f2(valor2) for valor2 in curva]\n",
        "  plt.plot(curva, valores2, color = \"red\",  linestyle='-')\n",
        "\n",
        "  valores3 = [f3(valor3) for valor3 in curva]\n",
        "  plt.plot(curva, valores3, color = \"green\",  linestyle='-')\n",
        "\n",
        "  plt.scatter(abscissas, ordenadas)\n",
        "  plt.title(titulo)\n",
        "  plt.xlabel('x')\n",
        "  plt.ylabel('f(x)')\n",
        "  plt.grid()\n",
        "  plt.show()\n"
      ],
      "metadata": {
        "id": "EyxA7PhCQo6J"
      },
      "execution_count": null,
      "outputs": []
    },
    {
      "cell_type": "markdown",
      "source": [
        "#Definição dos algoritmos\n"
      ],
      "metadata": {
        "id": "vcoEbscDpfJY"
      }
    },
    {
      "cell_type": "markdown",
      "source": [
        "##Polinômio de Lagrange"
      ],
      "metadata": {
        "id": "69iTsePojBGj"
      }
    },
    {
      "cell_type": "code",
      "execution_count": null,
      "metadata": {
        "id": "kuUP5td6pOH_"
      },
      "outputs": [],
      "source": [
        "def polLagrange(pontos, abscissas, ordenadas, interpola):\n",
        "  interpolado = 0\n",
        "  for i in range(0, pontos):\n",
        "    c = 1\n",
        "    d = 1\n",
        "    for j in range(0, pontos):\n",
        "      if i != j:\n",
        "        c = c * (interpola - abscissas[j])\n",
        "        d = d * (abscissas[i] - abscissas[j])\n",
        "\n",
        "    interpolado += ordenadas[i] * c/d\n",
        "\n",
        "  return interpolado"
      ]
    },
    {
      "cell_type": "code",
      "source": [
        "polLagrange(3, [1, 2, 5], [12, 4, 9], 2)"
      ],
      "metadata": {
        "colab": {
          "base_uri": "https://localhost:8080/"
        },
        "id": "JQSxn-nQb_3c",
        "outputId": "dbd39058-1564-441e-e54a-a7b4cd2417cb"
      },
      "execution_count": null,
      "outputs": [
        {
          "output_type": "execute_result",
          "data": {
            "text/plain": [
              "4.0"
            ]
          },
          "metadata": {},
          "execution_count": 9
        }
      ]
    },
    {
      "cell_type": "markdown",
      "source": [
        "##Polinômio de Newton"
      ],
      "metadata": {
        "id": "KG8B2zU6jFGC"
      }
    },
    {
      "cell_type": "code",
      "source": [
        "def polNewton(pontos, abscissas, ordenadas, interpola, print_flag):\n",
        "  Dif = [0 for _ in range(pontos)]\n",
        "  for i in range(pontos):\n",
        "\n",
        "    Dif[i] = ordenadas[i]\n",
        "\n",
        "  for i in range(1, pontos):\n",
        "    for k in range(pontos - 1, i - 1, -1):\n",
        "\n",
        "      Dif[k] = (Dif[k] - Dif[k-1])/(abscissas[k] - abscissas[k-i])\n",
        "\n",
        "\n",
        "  interpolado = Dif[-1]\n",
        "  for i in range(pontos - 2, -1, -1):\n",
        "    interpolado = interpolado * (interpola - abscissas[i]) + Dif[i]\n",
        "\n",
        "  if print_flag:\n",
        "    constroi_PolN(abscissas, Dif, pontos)\n",
        "\n",
        "  return interpolado\n"
      ],
      "metadata": {
        "id": "QBZdeSJLqdkv"
      },
      "execution_count": null,
      "outputs": []
    },
    {
      "cell_type": "code",
      "source": [
        "polNewton(3, [1, 2, 5], [12, 4, 9], 2, 0)"
      ],
      "metadata": {
        "colab": {
          "base_uri": "https://localhost:8080/"
        },
        "id": "SK_ZbIEOcyOo",
        "outputId": "9f936bfc-8cf8-4ba3-caf2-0650257cf205"
      },
      "execution_count": null,
      "outputs": [
        {
          "output_type": "execute_result",
          "data": {
            "text/plain": [
              "4.0"
            ]
          },
          "metadata": {},
          "execution_count": 11
        }
      ]
    },
    {
      "cell_type": "markdown",
      "source": [
        "##Spline Cúbica Natural"
      ],
      "metadata": {
        "id": "V_TdWRf1jKBK"
      }
    },
    {
      "cell_type": "code",
      "source": [
        "def cubic_Spline(pontos, abscissas, ordenadas, interpola):\n",
        "\n",
        "  h = [0 for _ in range(0, pontos)]\n",
        "  l = [0 for _ in range(0, pontos)]\n",
        "  mu = [0 for _ in range(0, pontos)]\n",
        "  z = [0 for _ in range(0, pontos)]\n",
        "  alfa = [0 for _ in range(0, pontos)]\n",
        "  b = [0 for _ in range(0, pontos)]\n",
        "  c = [0 for _ in range(0, pontos)]\n",
        "  d = [0 for _ in range(0, pontos)]\n",
        "  A = [0 for _ in range(0, pontos)]\n",
        "\n",
        "\n",
        "  for i in range(0, pontos - 1):\n",
        "    h[i] = abscissas[i+1] - abscissas[i]\n",
        "\n",
        "  for i in range(1, pontos - 1):\n",
        "    alfa[i] = ((3 / h[i]) * (ordenadas[i+1] - ordenadas[i])) - ((3/h[i-1]) * (ordenadas[i] - ordenadas[i-1]))\n",
        "\n",
        "  l[0] = 1\n",
        "  mu[0] = 0\n",
        "  z[0] = 0\n",
        "\n",
        "  for i in range(1, pontos-1):\n",
        "    l[i] = 2 * (abscissas[i+1] - abscissas[i-1]) - (h[i-1] * mu[i-1])\n",
        "    mu[i] = h[i] / l[i]\n",
        "    z[i] = (alfa[i] - (h[i-1] * z[i-1]))/l[i]\n",
        "\n",
        "  l[pontos - 1] = 1\n",
        "  z[pontos - 1] = 0\n",
        "  c[pontos - 1] = 0\n",
        "\n",
        "  for j in range(pontos - 2, -1, -1):\n",
        "    c[j] = z[j] - (mu[j] * c[j+1])\n",
        "    b[j] = ((ordenadas[j+1] - ordenadas[j])/h[j]) - ((h[j]*(c[j+1] + 2 * c[j]))/3)\n",
        "    d[j] = (c[j+1] - c[j])/(3*h[j])\n",
        "\n",
        "\n",
        "  for j in range(0, pontos):\n",
        "    A[j] = [ordenadas[j], b[j], c[j], d[j]]\n",
        "\n",
        "  for i in range(0, pontos-1):\n",
        "    if abscissas[i] <= interpola <= abscissas[i+1]:\n",
        "      resultado = ordenadas[i] + b[i] * (interpola - abscissas[i]) + c[i] * (interpola - abscissas[i]) ** 2 + d[i] * (interpola - abscissas[i]) ** 3\n",
        "\n",
        "  return resultado"
      ],
      "metadata": {
        "id": "ihZcegdEbeJj"
      },
      "execution_count": null,
      "outputs": []
    },
    {
      "cell_type": "code",
      "source": [
        "cubic_Spline(8, [1, 1.1, 1.2, 1.3, 1.4, 1.5, 1.6, 1.7], [1, 1.04881, 1.09545, 1.14018, 1.18322, 1.22474, 1.26491, 1.30384], 1.48)"
      ],
      "metadata": {
        "colab": {
          "base_uri": "https://localhost:8080/"
        },
        "id": "tu-V115rpZSE",
        "outputId": "98aea15a-b102-40ae-b15f-df5c0b6f1da7"
      },
      "execution_count": null,
      "outputs": [
        {
          "output_type": "execute_result",
          "data": {
            "text/plain": [
              "1.2165453799793886"
            ]
          },
          "metadata": {},
          "execution_count": 13
        }
      ]
    },
    {
      "cell_type": "markdown",
      "source": [
        "##Mínimos quadrados\n"
      ],
      "metadata": {
        "id": "2rlaJmOOjOpa"
      }
    },
    {
      "cell_type": "code",
      "source": [
        "def mmq(pontos, abscissas, ordenadas, grauPol):\n",
        "  #Falta implementar a métrica\n",
        "  sumx = 0\n",
        "  sumxy = 0\n",
        "  sumxsqry = 0\n",
        "  sumxcby = 0\n",
        "  st = 0\n",
        "  sumy = 0\n",
        "  sumxsqr = 0\n",
        "  sumxcb = 0\n",
        "  sumxfr = 0\n",
        "  sumxqn = 0\n",
        "  sumxsx = 0\n",
        "  sr = 0\n",
        "\n",
        "  for i in range(0, pontos):\n",
        "\n",
        "    sumx += abscissas[i]\n",
        "    sumy += ordenadas[i]\n",
        "    sumxy += abscissas[i] * ordenadas[i]\n",
        "    sumxsqr += abscissas[i] * abscissas[i]\n",
        "    if grauPol >= 2:\n",
        "      sumxcb += (abscissas[i] ** 3)\n",
        "      sumxfr += (abscissas[i] ** 4)\n",
        "      sumxsqry += (abscissas[i] * abscissas[i] * ordenadas[i])\n",
        "      if grauPol >= 3:\n",
        "        sumxqn += (abscissas[i] ** 5)\n",
        "        sumxsx += (abscissas[i] ** 6)\n",
        "        sumxcby += ((abscissas[i] ** 3) * ordenadas[i])\n",
        "\n",
        "  mediax = sumx / pontos\n",
        "  mediay = sumy / pontos\n",
        "\n",
        "  if grauPol == 1:\n",
        "    Matriz = [[sumxsqr, sumx], [sumx, pontos]]\n",
        "    Vresults = [sumxy, sumy]\n",
        "#|sumxsqr   sumx | * |a| = |sumxy|\n",
        "#|sum x    pontos|   |b|   |sumy |\n",
        "\n",
        "\n",
        "  else:\n",
        "    if grauPol == 2:\n",
        "      Matriz = [[sumxfr, sumxcb, sumxsqr], [sumxcb, sumxsqr, sumx], [sumxsqr, sumx, pontos]]\n",
        "      Vresults = [sumxsqry, sumxy, sumy]\n",
        "#|sumxfr  sumxcb  sumxsqr| * |a| = |sumxsqry|\n",
        "#|sumxcb  sumxsqr  sumx  |   |b|   | sumxy  |\n",
        "#|sumxsqr sumx    pontos |   |c|   |  sumy  |\n",
        "    else:\n",
        "      if grauPol == 3:\n",
        "        Matriz = [[sumxsx, sumxqn, sumxfr, sumxcb],[sumxqn, sumxfr, sumxcb, sumxsqr], [sumxfr, sumxcb, sumxsqr, sumx], [sumxcb, sumxsqr, sumx, pontos]]\n",
        "        Vresults = [sumxcby, sumxsqry, sumxy, sumy]\n",
        "\n",
        "#|sumxsx  sumxqn  sumxfr  sumxcb |   |a|   |sumxcby |\n",
        "#|sumxqn  sumxfr  sumxcb  sumxsqr|   |b| = |sumxsqry|\n",
        "#|sumxfr  sumxcb  sumxsqr sumx   |   |c|   | sumxy  |\n",
        "#|sumxcb  sumxsqr  sumx   pontos |   |d|   |  sumy  |\n",
        "\n",
        "  a = gauss(Matriz, Vresults, grauPol+1)\n",
        "\n",
        "  return a\n",
        "\n"
      ],
      "metadata": {
        "id": "9k0EwmrdgC6M"
      },
      "execution_count": null,
      "outputs": []
    },
    {
      "cell_type": "code",
      "source": [
        "teste = mmq(4, [0, 1, 2, 4], [1, 10, 49, 313], 3)"
      ],
      "metadata": {
        "id": "s-G4KAo9nwgy"
      },
      "execution_count": null,
      "outputs": []
    },
    {
      "cell_type": "code",
      "source": [
        "constroi_mmq(teste)"
      ],
      "metadata": {
        "colab": {
          "base_uri": "https://localhost:8080/",
          "height": 73
        },
        "id": "ELQZBEXaEDMT",
        "outputId": "3ba95edd-7e79-4c40-a4c4-c14de9baa1cc"
      },
      "execution_count": null,
      "outputs": [
        {
          "output_type": "stream",
          "name": "stdout",
          "text": [
            "O polinômio calculado é:\n",
            " 4.0*x**3 + 3.0*x**2 + 2.0*x + 1.0\n"
          ]
        },
        {
          "output_type": "execute_result",
          "data": {
            "text/plain": [
              "4.0*x**3 + 3.0*x**2 + 2.0*x + 1.0"
            ],
            "text/latex": "$\\displaystyle 4.0 x^{3} + 3.0 x^{2} + 2.0 x + 1.0$"
          },
          "metadata": {},
          "execution_count": 16
        }
      ]
    },
    {
      "cell_type": "markdown",
      "source": [
        "#Relatório"
      ],
      "metadata": {
        "id": "QLA4szU9kt9y"
      }
    },
    {
      "cell_type": "markdown",
      "source": [
        "##1) Usando interpolação de Newton, construa o polinômio interpolador de grau 4 para estimar a população no ano 1965."
      ],
      "metadata": {
        "id": "4mKMzxU6kxga"
      }
    },
    {
      "cell_type": "code",
      "source": [
        "r = polNewton(5, [1940, 1950, 1960, 1970, 1980], [132165, 151326, 179323, 203302, 226542], 1965, 1)\n",
        "print(\"O valor interpolado é:\\n\", r)\n"
      ],
      "metadata": {
        "colab": {
          "base_uri": "https://localhost:8080/"
        },
        "id": "yeOpynAWkwdy",
        "outputId": "55ee5b03-822e-45ff-eefa-f2a6a4f743e9"
      },
      "execution_count": null,
      "outputs": [
        {
          "output_type": "stream",
          "name": "stdout",
          "text": [
            "O polinômio calculado é:\n",
            "132165.000000 + 1916.100000 * (x - 1940.000000) + 44.180000 * (x - 1940.000000) * (x - 1950.000000) + -2.142333 * (x - 1940.000000) * (x - 1950.000000) * (x - 1960.000000) + 0.067221 * (x - 1940.000000) * (x - 1950.000000) * (x - 1960.000000) * (x - 1970.000000)\n",
            "O valor interpolado é:\n",
            " 191987.9296875\n"
          ]
        }
      ]
    },
    {
      "cell_type": "markdown",
      "source": [
        "##2)Usando interpolação Lagrange, determine a distância percorrida 15,6 minutos depois da partida."
      ],
      "metadata": {
        "id": "ONGQWqWAw-e3"
      }
    },
    {
      "cell_type": "code",
      "source": [
        "l = polLagrange(4, [0, 10, 20, 30], [0, 20.56, 30.67, 67.78], 15.6)\n",
        "print(\"A distância percorrida neste momento era de:\\n\", l, \"Km\")\n"
      ],
      "metadata": {
        "colab": {
          "base_uri": "https://localhost:8080/"
        },
        "id": "cDjogwdsxC7-",
        "outputId": "9b18c01b-fa87-4b50-9005-3ca70bcaf51a"
      },
      "execution_count": null,
      "outputs": [
        {
          "output_type": "stream",
          "name": "stdout",
          "text": [
            "A distância percorrida neste momento era de:\n",
            " 25.1098432 Km\n"
          ]
        }
      ]
    },
    {
      "cell_type": "markdown",
      "source": [
        "##3)\n",
        "a) Calcular Pn(0,3) utilizando polinômios interpoladores de graus n = 1, 2, 3, 4, 5 e 6\n"
      ],
      "metadata": {
        "id": "RP8PgaBJxzwe"
      }
    },
    {
      "cell_type": "code",
      "source": [
        "print(\"Os valores calculados para Pn(0.3) por polinômio de Lagrange são:\\n\")\n",
        "\n",
        "for i in range(2, 8):\n",
        "  a = polLagrange(i, [0, 0.5, 1.0, 1.5, 2, 2.5, 3], [0.5, 0.69146, 0.84134, 0.93319, 0.97725, 0.99379, 0.99865], 0.3)\n",
        "  print(\"Grau\", i-1, \":\", a, \"\\n\")"
      ],
      "metadata": {
        "colab": {
          "base_uri": "https://localhost:8080/"
        },
        "id": "Fc2WJKdGx65W",
        "outputId": "1b23b2a0-7679-423f-a6c8-ab805b215cfd"
      },
      "execution_count": null,
      "outputs": [
        {
          "output_type": "stream",
          "name": "stdout",
          "text": [
            "Os valores calculados para Pn(0.3) por polinômio de Lagrange são:\n",
            "\n",
            "Grau 1 : 0.614876 \n",
            "\n",
            "Grau 2 : 0.6198656 \n",
            "\n",
            "Grau 3 : 0.6189444000000001 \n",
            "\n",
            "Grau 4 : 0.618047616 \n",
            "\n",
            "Grau 5 : 0.6176669683200002 \n",
            "\n",
            "Grau 6 : 0.6176301068800005 \n",
            "\n"
          ]
        }
      ]
    },
    {
      "cell_type": "markdown",
      "source": [
        "b) Interpolar z = 0,3, via Splines Cúbicas Naturais.\n",
        "\n"
      ],
      "metadata": {
        "id": "GEhK7IMLx_oO"
      }
    },
    {
      "cell_type": "code",
      "source": [
        "b = cubic_Spline(7, [0, 0.5, 1.0, 1.5, 2, 2.5, 3], [0.5, 0.69146, 0.84134, 0.93319, 0.97725, 0.99379, 0.99865], 0.3)\n",
        "print(\"O valor calculado por Splines foi:\", b)"
      ],
      "metadata": {
        "colab": {
          "base_uri": "https://localhost:8080/"
        },
        "id": "AbAU31hmyBBW",
        "outputId": "c5e1479f-b928-468c-f3ad-a19660c61890"
      },
      "execution_count": null,
      "outputs": [
        {
          "output_type": "stream",
          "name": "stdout",
          "text": [
            "O valor calculado por Splines foi: 0.6178588873846154\n"
          ]
        }
      ]
    },
    {
      "cell_type": "markdown",
      "source": [
        "c) Comparar os resultados obtidos nas letras a e b com o valor tabela de z, N(0,3) =\n",
        "0,61791"
      ],
      "metadata": {
        "id": "6rXYT7NTyBeW"
      }
    },
    {
      "cell_type": "markdown",
      "source": [
        "  Os polinômios de ordem mais baixa tiveram maior diferença em relação ao resultado tabelado do que os de ordem mais alta, o que mostra que, quanto maior a ordem do polinômio, maior tende a ser a precisão\n",
        "  \n",
        "  Todas as diferenças foram na ordem de 10^-3, o que quer dizer que, se trabalhamos com uma precisão até a segunda casa decimal, não faria diferença qual grau escolher. Neste caso, escolher o grau 1 pode poupar recursos, o que pode ser desejável eventualmente.\n",
        "\n",
        "  A spline cúbica, por sua vez, teve uma precisão maior. Apesar de apresentar diferença na mesma ordem que os polinômios, esta diferença é de apenas 0,00004 unidades, enquanto nos pol's a menor diferença é de 0,00028 unidades\n",
        "\n",
        "  No geral, podemos ver que as Splines cúbicas apresentam maior precisão em relação a polinômios, para interpolações"
      ],
      "metadata": {
        "id": "HutcGefj1f3A"
      }
    },
    {
      "cell_type": "markdown",
      "source": [
        "##4)Use o método dos mínimos quadrados para calcular:"
      ],
      "metadata": {
        "id": "80ZcjfqJ51wJ"
      }
    },
    {
      "cell_type": "markdown",
      "source": [
        "a)Um polinômio linear que estime k com função de T;"
      ],
      "metadata": {
        "id": "75Br6F6a58fI"
      }
    },
    {
      "cell_type": "code",
      "source": [
        "a = mmq(7, [10, 20, 40, 50, 100, 200, 300], [90, 180, 280, 290, 230, 200, 200], 1)\n",
        "f1 = constroi_mmq(a)"
      ],
      "metadata": {
        "colab": {
          "base_uri": "https://localhost:8080/"
        },
        "id": "w2OGXneM6EsQ",
        "outputId": "8a9166d8-de7f-4c0e-994e-303b70a0675f"
      },
      "execution_count": null,
      "outputs": [
        {
          "output_type": "stream",
          "name": "stdout",
          "text": [
            "O polinômio calculado é:\n",
            " 0.028352*x + 207.08384\n"
          ]
        }
      ]
    },
    {
      "cell_type": "markdown",
      "source": [
        "b) Um polinômio quadrático que faça prever a relação entre k e T;\n"
      ],
      "metadata": {
        "id": "OPWN3YHh6ADo"
      }
    },
    {
      "cell_type": "code",
      "source": [
        "b = mmq(7, [10, 20, 40, 50, 100, 200, 300], [90, 180, 280, 290, 230, 200, 200], 2)\n",
        "f2 = constroi_mmq(b)"
      ],
      "metadata": {
        "colab": {
          "base_uri": "https://localhost:8080/"
        },
        "id": "HCySb3Q4674B",
        "outputId": "83f1d2fc-596a-45b4-c136-f14e8b8036f4"
      },
      "execution_count": null,
      "outputs": [
        {
          "output_type": "stream",
          "name": "stdout",
          "text": [
            "O polinômio calculado é:\n",
            " -0.003772*x**2 + 1.168696*x + 167.71564\n"
          ]
        }
      ]
    },
    {
      "cell_type": "markdown",
      "source": [
        "c) Um polinômio cúbico que faça prever a relação entre k e T.\n"
      ],
      "metadata": {
        "id": "7ipAiq5P6BtB"
      }
    },
    {
      "cell_type": "code",
      "source": [
        "c = mmq(7, [10, 20, 40, 50, 100, 200, 300], [90, 180, 280, 290, 230, 200, 200], 3)\n",
        "f3 = constroi_mmq(c)"
      ],
      "metadata": {
        "colab": {
          "base_uri": "https://localhost:8080/"
        },
        "id": "qtjIM03868Wx",
        "outputId": "5622dd27-f156-4118-87eb-33b0613a5286"
      },
      "execution_count": null,
      "outputs": [
        {
          "output_type": "stream",
          "name": "stdout",
          "text": [
            "O polinômio calculado é:\n",
            " 7.6e-5*x**3 - 0.038995*x**2 + 5.219232*x + 83.24922\n"
          ]
        }
      ]
    },
    {
      "cell_type": "markdown",
      "source": [
        "Qual dos polinômios parece mais adequado para você? Justifique."
      ],
      "metadata": {
        "id": "Ajg50G_c6Dco"
      }
    },
    {
      "cell_type": "markdown",
      "source": [
        "Analisando o gráfico abaixo, o polinômio de grau 3 parece apresentar os resultados mais próximos, de forma mais consistente. O pol de grau 2 apenas apresenta boa aproximação para 3 dos pontos dados, enquanto o de grau 1 apresenta aproximação dos pontos para valores maiores de temperatura, mas erra fortemente para os valores menores.\n",
        "\n",
        "Respondendo: O polinômio de grau 3 aparenta ser o mais consistente, cometendo apenas um erro relativamente grande, enquanto os outros apresentam mais. O grau 3 também apresenta as melhores aproximações, no geral."
      ],
      "metadata": {
        "id": "QIA4iz-AFI3e"
      }
    },
    {
      "cell_type": "code",
      "source": [
        "plotar(f1, f2, f3, [10, 20, 40, 50, 100, 200, 300], [90, 180, 280, 290, 230, 200, 200], \"Comparação dos resultados\", 0, 300)\n"
      ],
      "metadata": {
        "id": "OQpNI5DsWhvH",
        "colab": {
          "base_uri": "https://localhost:8080/",
          "height": 472
        },
        "outputId": "89d9f090-7511-409e-954d-77b32e733bed"
      },
      "execution_count": null,
      "outputs": [
        {
          "output_type": "display_data",
          "data": {
            "text/plain": [
              "<Figure size 640x480 with 1 Axes>"
            ],
            "image/png": "[encoded data removed]"
          },
          "metadata": {}
        }
      ]
    }
  ]
}